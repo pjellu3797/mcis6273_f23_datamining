{
 "cells": [
  {
   "cell_type": "code",
   "execution_count": 1,
   "id": "235e056c-6daa-42eb-ae39-3079ac6d0607",
   "metadata": {
    "slideshow": {
     "slide_type": "subslide"
    },
    "tags": []
   },
   "outputs": [],
   "source": [
    "import pandas as pd\n",
    "df = pd.read_csv(\"REFUSAL_ENTRY_2014-October2023.csv\", encoding='iso-8859-3')"
   ]
  },
  {
   "cell_type": "code",
   "execution_count": 2,
   "id": "2e4de1fe-1f8d-4e98-95a2-2cde62db1deb",
   "metadata": {
    "tags": []
   },
   "outputs": [],
   "source": [
    "df_example = df.REFUSAL_CHARGES.sample(1000)"
   ]
  },
  {
   "cell_type": "code",
   "execution_count": 3,
   "id": "1dfd7827-cd17-421d-8d89-0c4bd9191a59",
   "metadata": {
    "tags": []
   },
   "outputs": [
    {
     "data": {
      "text/plain": [
       "42451                75\n",
       "52758      75, 118, 472\n",
       "17124               249\n",
       "7347                249\n",
       "54514                27\n",
       "              ...      \n",
       "99084               479\n",
       "103960      62, 83, 324\n",
       "95678     75, 118, 3280\n",
       "92771                 9\n",
       "65789               508\n",
       "Name: REFUSAL_CHARGES, Length: 1000, dtype: object"
      ]
     },
     "execution_count": 3,
     "metadata": {},
     "output_type": "execute_result"
    }
   ],
   "source": [
    "df_example"
   ]
  },
  {
   "cell_type": "code",
   "execution_count": 4,
   "id": "9e753236-1247-4ba3-9c5d-01576cf8e61a",
   "metadata": {
    "tags": []
   },
   "outputs": [
    {
     "data": {
      "text/plain": [
       "42451                  [75]\n",
       "52758      [75,  118,  472]\n",
       "17124                 [249]\n",
       "7347                  [249]\n",
       "54514                  [27]\n",
       "                ...        \n",
       "99084                 [479]\n",
       "103960      [62,  83,  324]\n",
       "95678     [75,  118,  3280]\n",
       "92771                   [9]\n",
       "65789                 [508]\n",
       "Name: REFUSAL_CHARGES, Length: 1000, dtype: object"
      ]
     },
     "execution_count": 4,
     "metadata": {},
     "output_type": "execute_result"
    }
   ],
   "source": [
    "df_example.str.split(\",\")"
   ]
  },
  {
   "cell_type": "code",
   "execution_count": 5,
   "id": "bcaf8be9-01d6-4b4b-a484-b63101f7b1ba",
   "metadata": {
    "tags": []
   },
   "outputs": [],
   "source": [
    "code_list = df_example.str.split(\",\")"
   ]
  },
  {
   "cell_type": "code",
   "execution_count": 6,
   "id": "f722bc75-112d-44d9-bf77-9b050a31c821",
   "metadata": {
    "tags": []
   },
   "outputs": [
    {
     "data": {
      "text/plain": [
       "42451                [75]\n",
       "52758      [75, 118, 472]\n",
       "17124               [249]\n",
       "7347                [249]\n",
       "54514                [27]\n",
       "               ...       \n",
       "99084               [479]\n",
       "103960      [62, 83, 324]\n",
       "95678     [75, 118, 3280]\n",
       "92771                 [9]\n",
       "65789               [508]\n",
       "Name: REFUSAL_CHARGES, Length: 1000, dtype: object"
      ]
     },
     "execution_count": 6,
     "metadata": {},
     "output_type": "execute_result"
    }
   ],
   "source": [
    "df_example.apply(lambda d: d.replace(\" \", \"\")).str.split(',')"
   ]
  },
  {
   "cell_type": "code",
   "execution_count": 7,
   "id": "b6ab3237-33c4-4033-9502-db915d4abf3a",
   "metadata": {
    "tags": []
   },
   "outputs": [
    {
     "data": {
      "text/plain": [
       "42451                [75]\n",
       "52758      [75, 118, 472]\n",
       "17124               [249]\n",
       "7347                [249]\n",
       "54514                [27]\n",
       "               ...       \n",
       "99084               [479]\n",
       "103960      [62, 83, 324]\n",
       "95678     [75, 118, 3280]\n",
       "92771                 [9]\n",
       "65789               [508]\n",
       "Name: REFUSAL_CHARGES, Length: 1000, dtype: object"
      ]
     },
     "execution_count": 7,
     "metadata": {},
     "output_type": "execute_result"
    }
   ],
   "source": [
    "df_example.str.replace(\" \", \"\").str.split(',')"
   ]
  },
  {
   "cell_type": "code",
   "execution_count": 8,
   "id": "a2e92bab-f97d-418a-ac44-f86056aa23a2",
   "metadata": {
    "tags": []
   },
   "outputs": [
    {
     "data": {
      "text/plain": [
       "<Axes: xlabel='ISO_CNTRY_CODE'>"
      ]
     },
     "execution_count": 8,
     "metadata": {},
     "output_type": "execute_result"
    },
    {
     "data": {
      "image/png": "[encoded data removed]",
      "text/plain": [
       "<Figure size 640x480 with 1 Axes>"
      ]
     },
     "metadata": {},
     "output_type": "display_data"
    }
   ],
   "source": [
    "df.ISO_CNTRY_CODE.value_counts()[:25].plot(kind='bar')"
   ]
  },
  {
   "cell_type": "code",
   "execution_count": null,
   "id": "3a5ba4ce-e838-43d6-a210-434a1de83dbc",
   "metadata": {},
   "outputs": [],
   "source": []
  }
 ],
 "metadata": {
  "kernelspec": {
   "display_name": "Python [conda env:sau-fall-2023]",
   "language": "python",
   "name": "conda-env-sau-fall-2023-py"
  },
  "language_info": {
   "codemirror_mode": {
    "name": "ipython",
    "version": 3
   },
   "file_extension": ".py",
   "mimetype": "text/x-python",
   "name": "python",
   "nbconvert_exporter": "python",
   "pygments_lexer": "ipython3",
   "version": "3.11.6"
  }
 },
 "nbformat": 4,
 "nbformat_minor": 5
}
