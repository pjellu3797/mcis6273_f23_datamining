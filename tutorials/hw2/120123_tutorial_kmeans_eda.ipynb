{
 "cells": [
  {
   "cell_type": "code",
   "execution_count": 1,
   "id": "66bf440d-5ff9-4185-ac6a-6c728ca8a549",
   "metadata": {
    "slideshow": {
     "slide_type": "subslide"
    },
    "tags": []
   },
   "outputs": [],
   "source": [
    "import pandas as pd\n",
    "df = pd.read_csv(\"REFUSAL_ENTRY_2014-October2023.csv\", encoding='iso-8859-3')"
   ]
  },
  {
   "cell_type": "code",
   "execution_count": 2,
   "id": "df297855-17ba-4fcd-b9e3-ffcd6b93504d",
   "metadata": {
    "tags": []
   },
   "outputs": [
    {
     "data": {
      "text/plain": [
       "Index(['MFG_FIRM_FEI_NUM', 'LGL_NAME', 'LINE1_ADRS', 'LINE2_ADRS', 'CITY_NAME',\n",
       "       'PROVINCE_STATE', 'ISO_CNTRY_CODE', 'PRODUCT_CODE', 'REFUSAL_DATE',\n",
       "       'DISTRICT', 'ENTRY_NUM', 'RFRNC_DOC_ID', 'LINE_NUM', 'LINE_SFX_ID',\n",
       "       'FDA_SAMPLE_ANALYSIS', 'PRIVATE_LAB_ANALYSIS', 'REFUSAL_CHARGES',\n",
       "       'PRDCT_CODE_DESC_TEXT'],\n",
       "      dtype='object')"
      ]
     },
     "execution_count": 2,
     "metadata": {},
     "output_type": "execute_result"
    }
   ],
   "source": [
    "df.columns"
   ]
  },
  {
   "cell_type": "code",
   "execution_count": 3,
   "id": "2f145420-94d8-4553-a15e-22596955763b",
   "metadata": {
    "tags": []
   },
   "outputs": [
    {
     "data": {
      "text/html": [
       "<div>\n",
       "<style scoped>\n",
       "    .dataframe tbody tr th:only-of-type {\n",
       "        vertical-align: middle;\n",
       "    }\n",
       "\n",
       "    .dataframe tbody tr th {\n",
       "        vertical-align: top;\n",
       "    }\n",
       "\n",
       "    .dataframe thead th {\n",
       "        text-align: right;\n",
       "    }\n",
       "</style>\n",
       "<table border=\"1\" class=\"dataframe\">\n",
       "  <thead>\n",
       "    <tr style=\"text-align: right;\">\n",
       "      <th></th>\n",
       "      <th>MFG_FIRM_FEI_NUM</th>\n",
       "      <th>LGL_NAME</th>\n",
       "      <th>LINE1_ADRS</th>\n",
       "      <th>LINE2_ADRS</th>\n",
       "      <th>CITY_NAME</th>\n",
       "      <th>PROVINCE_STATE</th>\n",
       "      <th>ISO_CNTRY_CODE</th>\n",
       "      <th>PRODUCT_CODE</th>\n",
       "      <th>REFUSAL_DATE</th>\n",
       "      <th>DISTRICT</th>\n",
       "      <th>ENTRY_NUM</th>\n",
       "      <th>RFRNC_DOC_ID</th>\n",
       "      <th>LINE_NUM</th>\n",
       "      <th>LINE_SFX_ID</th>\n",
       "      <th>FDA_SAMPLE_ANALYSIS</th>\n",
       "      <th>PRIVATE_LAB_ANALYSIS</th>\n",
       "      <th>REFUSAL_CHARGES</th>\n",
       "      <th>PRDCT_CODE_DESC_TEXT</th>\n",
       "    </tr>\n",
       "  </thead>\n",
       "  <tbody>\n",
       "    <tr>\n",
       "      <th>0</th>\n",
       "      <td>3016998564</td>\n",
       "      <td>xinyayuan biotech co., ltd</td>\n",
       "      <td>Standard Building 8</td>\n",
       "      <td>Zhusong; Intensive Processing Zone Of Agricult...</td>\n",
       "      <td>Chengdu</td>\n",
       "      <td>Sichuan</td>\n",
       "      <td>CN</td>\n",
       "      <td>25RGH99</td>\n",
       "      <td>09-Oct-20</td>\n",
       "      <td>DNEI</td>\n",
       "      <td>EKH-0734521-1</td>\n",
       "      <td>72</td>\n",
       "      <td>1</td>\n",
       "      <td>NaN</td>\n",
       "      <td>No</td>\n",
       "      <td>No</td>\n",
       "      <td>249</td>\n",
       "      <td>MUSHROOMS AND OTHER FUNGI PRODUCTS, BROKEN OR ...</td>\n",
       "    </tr>\n",
       "    <tr>\n",
       "      <th>1</th>\n",
       "      <td>3016638548</td>\n",
       "      <td>TRIPLE CROWN FOODS INC</td>\n",
       "      <td>26 Main St Ste A</td>\n",
       "      <td>NaN</td>\n",
       "      <td>Kings Park</td>\n",
       "      <td>NY</td>\n",
       "      <td>US</td>\n",
       "      <td>25JFD24</td>\n",
       "      <td>07-Apr-20</td>\n",
       "      <td>DSEI</td>\n",
       "      <td>EKM-0147848-3</td>\n",
       "      <td>11</td>\n",
       "      <td>36</td>\n",
       "      <td>NaN</td>\n",
       "      <td>No</td>\n",
       "      <td>No</td>\n",
       "      <td>249</td>\n",
       "      <td>GINGER ROOT (ROOT &amp; TUBER VEGETABLE)</td>\n",
       "    </tr>\n",
       "    <tr>\n",
       "      <th>2</th>\n",
       "      <td>3014453449</td>\n",
       "      <td>Three Squirrels Inc.</td>\n",
       "      <td>No. 8 Jiusheng Road</td>\n",
       "      <td>High Tech Industrial Development Zone, Yijiang...</td>\n",
       "      <td>Wuhu</td>\n",
       "      <td>Anhui</td>\n",
       "      <td>CN</td>\n",
       "      <td>33LGT12</td>\n",
       "      <td>27-Aug-19</td>\n",
       "      <td>DWCI</td>\n",
       "      <td>EKU-0054443-4</td>\n",
       "      <td>182</td>\n",
       "      <td>1</td>\n",
       "      <td>NaN</td>\n",
       "      <td>No</td>\n",
       "      <td>No</td>\n",
       "      <td>324, 473</td>\n",
       "      <td>MIXED/ASSORTED SOFT CANDY WITHOUT NUTS, FRUIT ...</td>\n",
       "    </tr>\n",
       "    <tr>\n",
       "      <th>3</th>\n",
       "      <td>2000005205</td>\n",
       "      <td>Pablo Ignacio Michel Ontiveros</td>\n",
       "      <td>Quintana Roo 1611</td>\n",
       "      <td>Col. Guadalupana</td>\n",
       "      <td>Guadalajara</td>\n",
       "      <td>Jalisco</td>\n",
       "      <td>MX</td>\n",
       "      <td>23BGT07</td>\n",
       "      <td>23-Oct-17</td>\n",
       "      <td>DSWI</td>\n",
       "      <td>EMK-0028113-4</td>\n",
       "      <td>11</td>\n",
       "      <td>2</td>\n",
       "      <td>NaN</td>\n",
       "      <td>Yes</td>\n",
       "      <td>No</td>\n",
       "      <td>11, 256, 274</td>\n",
       "      <td>PEANUT, SHELLED</td>\n",
       "    </tr>\n",
       "    <tr>\n",
       "      <th>4</th>\n",
       "      <td>3013071463</td>\n",
       "      <td>Shantou Olive Pharmaceutical Co.,Ltd</td>\n",
       "      <td>NO. 4 Chaoshanlu Xixiang</td>\n",
       "      <td>Jinping</td>\n",
       "      <td>Shantou</td>\n",
       "      <td>Guangdong</td>\n",
       "      <td>CN</td>\n",
       "      <td>66VBY99</td>\n",
       "      <td>29-Jun-16</td>\n",
       "      <td>LOS-DO</td>\n",
       "      <td>EPG-3005802-1</td>\n",
       "      <td>1</td>\n",
       "      <td>36</td>\n",
       "      <td>NaN</td>\n",
       "      <td>No</td>\n",
       "      <td>No</td>\n",
       "      <td>72, 218, 238, 328</td>\n",
       "      <td>MISCELLANEOUS PATENT MEDICINES, ETC.</td>\n",
       "    </tr>\n",
       "  </tbody>\n",
       "</table>\n",
       "</div>"
      ],
      "text/plain": [
       "   MFG_FIRM_FEI_NUM                              LGL_NAME  \\\n",
       "0        3016998564            xinyayuan biotech co., ltd   \n",
       "1        3016638548                TRIPLE CROWN FOODS INC   \n",
       "2        3014453449                  Three Squirrels Inc.   \n",
       "3        2000005205        Pablo Ignacio Michel Ontiveros   \n",
       "4        3013071463  Shantou Olive Pharmaceutical Co.,Ltd   \n",
       "\n",
       "                 LINE1_ADRS  \\\n",
       "0       Standard Building 8   \n",
       "1          26 Main St Ste A   \n",
       "2       No. 8 Jiusheng Road   \n",
       "3         Quintana Roo 1611   \n",
       "4  NO. 4 Chaoshanlu Xixiang   \n",
       "\n",
       "                                          LINE2_ADRS    CITY_NAME  \\\n",
       "0  Zhusong; Intensive Processing Zone Of Agricult...      Chengdu   \n",
       "1                                                NaN   Kings Park   \n",
       "2  High Tech Industrial Development Zone, Yijiang...         Wuhu   \n",
       "3                                   Col. Guadalupana  Guadalajara   \n",
       "4                                            Jinping      Shantou   \n",
       "\n",
       "  PROVINCE_STATE ISO_CNTRY_CODE PRODUCT_CODE REFUSAL_DATE DISTRICT  \\\n",
       "0        Sichuan             CN      25RGH99    09-Oct-20     DNEI   \n",
       "1             NY             US      25JFD24    07-Apr-20     DSEI   \n",
       "2          Anhui             CN      33LGT12    27-Aug-19     DWCI   \n",
       "3        Jalisco             MX      23BGT07    23-Oct-17     DSWI   \n",
       "4      Guangdong             CN      66VBY99    29-Jun-16   LOS-DO   \n",
       "\n",
       "       ENTRY_NUM  RFRNC_DOC_ID  LINE_NUM LINE_SFX_ID FDA_SAMPLE_ANALYSIS  \\\n",
       "0  EKH-0734521-1            72         1         NaN                  No   \n",
       "1  EKM-0147848-3            11        36         NaN                  No   \n",
       "2  EKU-0054443-4           182         1         NaN                  No   \n",
       "3  EMK-0028113-4            11         2         NaN                 Yes   \n",
       "4  EPG-3005802-1             1        36         NaN                  No   \n",
       "\n",
       "  PRIVATE_LAB_ANALYSIS    REFUSAL_CHARGES  \\\n",
       "0                   No                249   \n",
       "1                   No                249   \n",
       "2                   No           324, 473   \n",
       "3                   No       11, 256, 274   \n",
       "4                   No  72, 218, 238, 328   \n",
       "\n",
       "                                PRDCT_CODE_DESC_TEXT  \n",
       "0  MUSHROOMS AND OTHER FUNGI PRODUCTS, BROKEN OR ...  \n",
       "1               GINGER ROOT (ROOT & TUBER VEGETABLE)  \n",
       "2  MIXED/ASSORTED SOFT CANDY WITHOUT NUTS, FRUIT ...  \n",
       "3                                    PEANUT, SHELLED  \n",
       "4               MISCELLANEOUS PATENT MEDICINES, ETC.  "
      ]
     },
     "execution_count": 3,
     "metadata": {},
     "output_type": "execute_result"
    }
   ],
   "source": [
    "df.head()"
   ]
  },
  {
   "cell_type": "code",
   "execution_count": 4,
   "id": "7e4cd1c6-f63c-4595-bc56-5f5fbba5517f",
   "metadata": {
    "tags": []
   },
   "outputs": [],
   "source": [
    "df_example = df[['RFRNC_DOC_ID','LINE_NUM']].sample(500)"
   ]
  },
  {
   "cell_type": "code",
   "execution_count": 5,
   "id": "20d73601-239e-4832-b8d3-b0594afa6e0b",
   "metadata": {
    "tags": []
   },
   "outputs": [
    {
     "data": {
      "text/html": [
       "<div>\n",
       "<style scoped>\n",
       "    .dataframe tbody tr th:only-of-type {\n",
       "        vertical-align: middle;\n",
       "    }\n",
       "\n",
       "    .dataframe tbody tr th {\n",
       "        vertical-align: top;\n",
       "    }\n",
       "\n",
       "    .dataframe thead th {\n",
       "        text-align: right;\n",
       "    }\n",
       "</style>\n",
       "<table border=\"1\" class=\"dataframe\">\n",
       "  <thead>\n",
       "    <tr style=\"text-align: right;\">\n",
       "      <th></th>\n",
       "      <th>RFRNC_DOC_ID</th>\n",
       "      <th>LINE_NUM</th>\n",
       "    </tr>\n",
       "  </thead>\n",
       "  <tbody>\n",
       "    <tr>\n",
       "      <th>134316</th>\n",
       "      <td>21</td>\n",
       "      <td>1</td>\n",
       "    </tr>\n",
       "    <tr>\n",
       "      <th>19409</th>\n",
       "      <td>10</td>\n",
       "      <td>2</td>\n",
       "    </tr>\n",
       "    <tr>\n",
       "      <th>138077</th>\n",
       "      <td>132</td>\n",
       "      <td>1</td>\n",
       "    </tr>\n",
       "    <tr>\n",
       "      <th>94773</th>\n",
       "      <td>7</td>\n",
       "      <td>1</td>\n",
       "    </tr>\n",
       "    <tr>\n",
       "      <th>104651</th>\n",
       "      <td>49</td>\n",
       "      <td>1</td>\n",
       "    </tr>\n",
       "    <tr>\n",
       "      <th>...</th>\n",
       "      <td>...</td>\n",
       "      <td>...</td>\n",
       "    </tr>\n",
       "    <tr>\n",
       "      <th>13248</th>\n",
       "      <td>11</td>\n",
       "      <td>1</td>\n",
       "    </tr>\n",
       "    <tr>\n",
       "      <th>38554</th>\n",
       "      <td>11</td>\n",
       "      <td>2</td>\n",
       "    </tr>\n",
       "    <tr>\n",
       "      <th>92616</th>\n",
       "      <td>11</td>\n",
       "      <td>1</td>\n",
       "    </tr>\n",
       "    <tr>\n",
       "      <th>130280</th>\n",
       "      <td>41</td>\n",
       "      <td>1</td>\n",
       "    </tr>\n",
       "    <tr>\n",
       "      <th>34057</th>\n",
       "      <td>1</td>\n",
       "      <td>1</td>\n",
       "    </tr>\n",
       "  </tbody>\n",
       "</table>\n",
       "<p>500 rows × 2 columns</p>\n",
       "</div>"
      ],
      "text/plain": [
       "        RFRNC_DOC_ID  LINE_NUM\n",
       "134316            21         1\n",
       "19409             10         2\n",
       "138077           132         1\n",
       "94773              7         1\n",
       "104651            49         1\n",
       "...              ...       ...\n",
       "13248             11         1\n",
       "38554             11         2\n",
       "92616             11         1\n",
       "130280            41         1\n",
       "34057              1         1\n",
       "\n",
       "[500 rows x 2 columns]"
      ]
     },
     "execution_count": 5,
     "metadata": {},
     "output_type": "execute_result"
    }
   ],
   "source": [
    "df_example"
   ]
  },
  {
   "cell_type": "code",
   "execution_count": 6,
   "id": "e2bfdddb-7f41-431f-b26a-a06c0f514497",
   "metadata": {
    "tags": []
   },
   "outputs": [],
   "source": [
    "from sklearn.cluster import KMeans"
   ]
  },
  {
   "cell_type": "code",
   "execution_count": 7,
   "id": "be6fb3a5-5d3e-4e04-84e8-57de73d16f1f",
   "metadata": {
    "tags": []
   },
   "outputs": [],
   "source": [
    "kmeans = KMeans(n_clusters=5, random_state=0, n_init=\"auto\").fit(df_example)"
   ]
  },
  {
   "cell_type": "code",
   "execution_count": 8,
   "id": "4f91a5f1-f5d6-48cf-9794-5c48c22e9c27",
   "metadata": {
    "tags": []
   },
   "outputs": [
    {
     "data": {
      "text/plain": [
       "array([0, 0, 4, 0, 0, 0, 0, 0, 0, 0, 4, 0, 0, 0, 0, 0, 0, 0, 0, 0, 0, 0,\n",
       "       4, 0, 0, 0, 0, 0, 0, 4, 0, 0, 0, 0, 4, 4, 4, 0, 0, 0, 4, 0, 0, 4,\n",
       "       0, 0, 0, 0, 0, 0, 0, 0, 0, 0, 4, 0, 0, 0, 4, 0, 0, 3, 0, 0, 0, 1,\n",
       "       0, 0, 0, 2, 0, 0, 0, 0, 4, 0, 0, 0, 0, 0, 0, 0, 0, 0, 0, 0, 4, 0,\n",
       "       0, 0, 0, 0, 2, 4, 0, 0, 0, 0, 0, 4, 4, 0, 0, 0, 0, 0, 3, 0, 4, 0,\n",
       "       0, 0, 0, 4, 0, 0, 0, 0, 0, 0, 0, 0, 0, 2, 0, 0, 0, 4, 0, 0, 0, 0,\n",
       "       0, 0, 0, 0, 0, 0, 0, 0, 0, 0, 0, 0, 0, 0, 4, 0, 0, 0, 0, 0, 0, 0,\n",
       "       0, 0, 0, 4, 0, 0, 0, 0, 3, 0, 4, 0, 0, 0, 0, 0, 3, 0, 0, 0, 0, 0,\n",
       "       1, 0, 4, 0, 0, 0, 0, 0, 0, 0, 0, 0, 0, 0, 0, 0, 0, 0, 0, 0, 0, 0,\n",
       "       0, 0, 0, 0, 0, 0, 0, 0, 0, 0, 4, 0, 0, 3, 0, 0, 4, 0, 0, 4, 0, 0,\n",
       "       4, 0, 0, 0, 0, 0, 0, 0, 0, 0, 0, 0, 0, 0, 0, 0, 0, 0, 0, 4, 4, 0,\n",
       "       0, 0, 4, 0, 0, 0, 0, 0, 0, 0, 0, 0, 0, 0, 4, 0, 0, 0, 3, 0, 0, 0,\n",
       "       4, 0, 4, 0, 0, 0, 0, 0, 0, 0, 0, 4, 0, 0, 0, 0, 0, 0, 3, 0, 0, 0,\n",
       "       0, 4, 0, 0, 0, 0, 0, 0, 4, 4, 0, 0, 0, 0, 0, 0, 0, 4, 0, 4, 0, 0,\n",
       "       0, 0, 0, 1, 0, 0, 0, 0, 0, 0, 0, 3, 0, 0, 0, 0, 0, 0, 0, 4, 0, 0,\n",
       "       4, 0, 0, 4, 0, 0, 0, 0, 0, 0, 4, 0, 0, 0, 0, 0, 0, 0, 0, 0, 0, 0,\n",
       "       0, 0, 0, 0, 0, 0, 0, 0, 0, 0, 0, 4, 0, 4, 0, 0, 0, 0, 0, 0, 0, 4,\n",
       "       4, 0, 0, 0, 0, 0, 0, 0, 0, 4, 0, 0, 0, 0, 0, 4, 0, 0, 0, 0, 3, 0,\n",
       "       0, 0, 3, 0, 0, 0, 0, 0, 0, 0, 0, 0, 0, 0, 0, 0, 4, 0, 0, 0, 0, 0,\n",
       "       0, 0, 0, 0, 0, 0, 0, 0, 0, 0, 0, 4, 0, 0, 0, 0, 0, 0, 0, 0, 0, 4,\n",
       "       0, 0, 4, 0, 4, 0, 0, 0, 0, 0, 0, 0, 0, 0, 0, 0, 0, 3, 0, 0, 0, 0,\n",
       "       0, 0, 3, 0, 0, 0, 0, 0, 0, 0, 0, 0, 0, 0, 4, 0, 0, 4, 0, 0, 4, 0,\n",
       "       0, 0, 0, 0, 4, 0, 0, 0, 0, 0, 0, 0, 0, 0, 0, 0], dtype=int32)"
      ]
     },
     "execution_count": 8,
     "metadata": {},
     "output_type": "execute_result"
    }
   ],
   "source": [
    "kmeans.labels_"
   ]
  },
  {
   "cell_type": "code",
   "execution_count": 9,
   "id": "2153d120-9ca6-4d75-adbf-05947c19ef24",
   "metadata": {
    "tags": []
   },
   "outputs": [],
   "source": [
    "df_example['cluster'] = kmeans.labels_"
   ]
  },
  {
   "cell_type": "code",
   "execution_count": 10,
   "id": "c61da079-b64c-4196-8c64-d59c42e348ea",
   "metadata": {
    "tags": []
   },
   "outputs": [
    {
     "data": {
      "text/plain": [
       "cluster\n",
       "0    424\n",
       "4     58\n",
       "3     12\n",
       "1      3\n",
       "2      3\n",
       "Name: count, dtype: int64"
      ]
     },
     "execution_count": 10,
     "metadata": {},
     "output_type": "execute_result"
    }
   ],
   "source": [
    "df_example.cluster.value_counts()"
   ]
  },
  {
   "cell_type": "code",
   "execution_count": 11,
   "id": "2d1a0795-12bc-4b76-8a37-dd91c8d79248",
   "metadata": {
    "tags": []
   },
   "outputs": [
    {
     "data": {
      "text/plain": [
       "RFRNC_DOC_ID\n",
       "11              156\n",
       "1               109\n",
       "21               31\n",
       "2                20\n",
       "3                15\n",
       "12               14\n",
       "41               13\n",
       "31               13\n",
       "4                 9\n",
       "5                 7\n",
       "51                6\n",
       "6                 6\n",
       "8                 5\n",
       "7                 3\n",
       "10                2\n",
       "14                2\n",
       "22                2\n",
       "33                1\n",
       "49                1\n",
       "39                1\n",
       "34                1\n",
       "16                1\n",
       "28                1\n",
       "25                1\n",
       "17                1\n",
       "13                1\n",
       "9                 1\n",
       "59                1\n",
       "Name: count, dtype: int64"
      ]
     },
     "execution_count": 11,
     "metadata": {},
     "output_type": "execute_result"
    }
   ],
   "source": [
    "df_example.query('cluster == 0')[['RFRNC_DOC_ID']].value_counts()"
   ]
  },
  {
   "cell_type": "code",
   "execution_count": 12,
   "id": "46c9da23-fe47-4c7f-83d2-1ee269da8502",
   "metadata": {
    "tags": []
   },
   "outputs": [
    {
     "data": {
      "text/plain": [
       "RFRNC_DOC_ID\n",
       "241             1\n",
       "242             1\n",
       "261             1\n",
       "291             1\n",
       "341             1\n",
       "371             1\n",
       "401             1\n",
       "411             1\n",
       "428             1\n",
       "454             1\n",
       "471             1\n",
       "501             1\n",
       "Name: count, dtype: int64"
      ]
     },
     "execution_count": 12,
     "metadata": {},
     "output_type": "execute_result"
    }
   ],
   "source": [
    "df_example.query('cluster == 3')[['RFRNC_DOC_ID']].value_counts()"
   ]
  },
  {
   "cell_type": "code",
   "execution_count": 13,
   "id": "e57fbf09-188a-4f24-a568-40db64ee5a7f",
   "metadata": {
    "tags": []
   },
   "outputs": [
    {
     "data": {
      "text/plain": [
       "LINE_NUM\n",
       "1     370\n",
       "2      46\n",
       "5      17\n",
       "3      15\n",
       "4      14\n",
       "6       7\n",
       "10      5\n",
       "16      4\n",
       "8       4\n",
       "9       3\n",
       "7       2\n",
       "11      1\n",
       "83      1\n",
       "17      1\n",
       "50      1\n",
       "13      1\n",
       "20      1\n",
       "31      1\n",
       "33      1\n",
       "96      1\n",
       "14      1\n",
       "30      1\n",
       "73      1\n",
       "18      1\n",
       "Name: count, dtype: int64"
      ]
     },
     "execution_count": 13,
     "metadata": {},
     "output_type": "execute_result"
    }
   ],
   "source": [
    "df_example.LINE_NUM.value_counts()"
   ]
  },
  {
   "cell_type": "code",
   "execution_count": 14,
   "id": "4a54794e",
   "metadata": {},
   "outputs": [],
   "source": [
    "df_example.query('cluster == 0')[['RFRNC_DOC_ID', 'LINE_NUM']].value_counts()[:10]"
   ]
  },
  {
   "cell_type": "code",
   "execution_count": 15,
   "id": "f6a4e91e-d6b1-4590-b8e9-2dca21052b79",
   "metadata": {
    "tags": []
   },
   "outputs": [
    {
     "data": {
      "text/plain": [
       "array([[1.07382075e+01, 2.93160377e+00],\n",
       "       [1.56433333e+03, 1.00000000e+00],\n",
       "       [8.31333333e+02, 1.00000000e+00],\n",
       "       [3.67750000e+02, 1.41666667e+00],\n",
       "       [1.10034483e+02, 1.72413793e+00]])"
      ]
     },
     "execution_count": 15,
     "metadata": {},
     "output_type": "execute_result"
    }
   ],
   "source": [
    "kmeans.cluster_centers_"
   ]
  },
  {
   "cell_type": "code",
   "execution_count": 16,
   "id": "740a750b-bdb6-4001-af91-558beede2b52",
   "metadata": {
    "tags": []
   },
   "outputs": [
    {
     "data": {
      "text/plain": [
       "RFRNC_DOC_ID  LINE_NUM\n",
       "241           4           1\n",
       "242           1           1\n",
       "261           1           1\n",
       "291           1           1\n",
       "341           2           1\n",
       "371           1           1\n",
       "401           1           1\n",
       "411           1           1\n",
       "428           1           1\n",
       "454           1           1\n",
       "Name: count, dtype: int64"
      ]
     },
     "execution_count": 16,
     "metadata": {},
     "output_type": "execute_result"
    }
   ],
   "source": [
    "df_example.query('cluster == 3')[['RFRNC_DOC_ID', 'LINE_NUM']].value_counts()[:10]"
   ]
  },
  {
   "cell_type": "code",
   "execution_count": 18,
   "id": "e8f76429-b9c5-4f64-a75d-e6eaeab45d35",
   "metadata": {
    "tags": []
   },
   "outputs": [
    {
     "name": "stderr",
     "output_type": "stream",
     "text": [
      "/opt/conda/envs/sau-fall-2023/lib/python3.11/site-packages/sklearn/base.py:465: UserWarning: X does not have valid feature names, but KMeans was fitted with feature names\n",
      "  warnings.warn(\n"
     ]
    },
    {
     "data": {
      "text/plain": [
       "array([0], dtype=int32)"
      ]
     },
     "execution_count": 18,
     "metadata": {},
     "output_type": "execute_result"
    }
   ],
   "source": [
    "kmeans.predict([[11,1]])"
   ]
  },
  {
   "cell_type": "code",
   "execution_count": 20,
   "id": "27772a27-e0e0-4dd4-a6b1-fdeb6a7a007f",
   "metadata": {
    "tags": []
   },
   "outputs": [
    {
     "name": "stderr",
     "output_type": "stream",
     "text": [
      "/opt/conda/envs/sau-fall-2023/lib/python3.11/site-packages/sklearn/base.py:465: UserWarning: X does not have valid feature names, but KMeans was fitted with feature names\n",
      "  warnings.warn(\n"
     ]
    },
    {
     "data": {
      "text/plain": [
       "array([3], dtype=int32)"
      ]
     },
     "execution_count": 20,
     "metadata": {},
     "output_type": "execute_result"
    }
   ],
   "source": [
    "kmeans.predict([[241,4]])"
   ]
  },
  {
   "cell_type": "code",
   "execution_count": null,
   "id": "137bf29a-58ed-47c2-90f8-754be3d2586f",
   "metadata": {},
   "outputs": [],
   "source": []
  }
 ],
 "metadata": {
  "kernelspec": {
   "display_name": "Python [conda env:sau-fall-2023]",
   "language": "python",
   "name": "conda-env-sau-fall-2023-py"
  },
  "language_info": {
   "codemirror_mode": {
    "name": "ipython",
    "version": 3
   },
   "file_extension": ".py",
   "mimetype": "text/x-python",
   "name": "python",
   "nbconvert_exporter": "python",
   "pygments_lexer": "ipython3",
   "version": "3.11.6"
  }
 },
 "nbformat": 4,
 "nbformat_minor": 5
}
