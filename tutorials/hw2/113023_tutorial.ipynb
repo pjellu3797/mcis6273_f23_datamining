{
 "cells": [
  {
   "cell_type": "markdown",
   "id": "25498745-aa17-4a73-80a3-b1661451b08e",
   "metadata": {
    "slideshow": {
     "slide_type": "slide"
    }
   },
   "source": [
    "# Binarizing Data"
   ]
  },
  {
   "cell_type": "markdown",
   "id": "8682f192-6ca0-4ca0-bca7-ce75a36d7d99",
   "metadata": {
    "slideshow": {
     "slide_type": "slide"
    }
   },
   "source": [
    "## MOTIVATION\n",
    "    \n",
    "* we want to take the data in a column as _categories_\n",
    "* that is each of the represented values are discrete\n",
    "* what would happen if these were columns (features)"
   ]
  },
  {
   "cell_type": "markdown",
   "id": "82df1aab-e0d0-48d2-9dfd-d0162978fbd4",
   "metadata": {
    "slideshow": {
     "slide_type": "slide"
    }
   },
   "source": [
    "## EXAMPLE\n",
    "\n",
    "* consider `ISO_CNTRY`"
   ]
  },
  {
   "cell_type": "code",
   "execution_count": 1,
   "id": "18114bb0-4ed8-426c-b81c-dd221345d34a",
   "metadata": {
    "slideshow": {
     "slide_type": "subslide"
    },
    "tags": []
   },
   "outputs": [],
   "source": [
    "import pandas as pd\n",
    "df = pd.read_csv(\"REFUSAL_ENTRY_2014-October2023.csv\", encoding='iso-8859-3')"
   ]
  },
  {
   "cell_type": "code",
   "execution_count": 2,
   "id": "9625460e-e845-449d-8cb4-f65504833f18",
   "metadata": {
    "slideshow": {
     "slide_type": "subslide"
    },
    "tags": []
   },
   "outputs": [
    {
     "data": {
      "text/plain": [
       "0    CN\n",
       "1    US\n",
       "2    CN\n",
       "3    MX\n",
       "4    CN\n",
       "5    CN\n",
       "6    KR\n",
       "7    CR\n",
       "8    IN\n",
       "9    DO\n",
       "Name: ISO_CNTRY_CODE, dtype: object"
      ]
     },
     "execution_count": 2,
     "metadata": {},
     "output_type": "execute_result"
    }
   ],
   "source": [
    "df['ISO_CNTRY_CODE'][:10] # first TrueFalse rows of ISO_CNTRY_CODE"
   ]
  },
  {
   "cell_type": "markdown",
   "id": "24782eb6-cfd4-4a8d-a5f8-2a7185c39c9c",
   "metadata": {
    "slideshow": {
     "slide_type": "slide"
    }
   },
   "source": [
    "## What if ...\n",
    "\n",
    "* instead of the rows having the country code\n",
    "* the columns were the country code\n",
    "* and the rows were just True/False (True/False)?"
   ]
  },
  {
   "cell_type": "markdown",
   "id": "7848f890-d0ec-4673-b0c8-ef8f55be702e",
   "metadata": {
    "slideshow": {
     "slide_type": "subslide"
    }
   },
   "source": [
    "## It might look like ...\n",
    "|    |   CN |   CR |   DO |   IN |   KR |   MX |   US |\n",
    "|---:|-----:|-----:|-----:|-----:|-----:|-----:|-----:|\n",
    "|  0 |    True |    False |    False |    False |    False |    False |    False |\n",
    "|  1 |    False |    False |    False |    False |    False |    False |    True |\n",
    "|  2 |    True |    False |    False |    False |    False |    False |    False |\n",
    "|  3 |    False |    False |    False |    False |    False |    True |    False |\n",
    "|  4 |    True |    False |    False |    False |    False |    False |    False |\n",
    "|  5 |    True |    False |    False |    False |    False |    False |    False |\n",
    "|  6 |    False |    False |    False |    False |    True |    False |    False |\n",
    "|  7 |    False |    True |    False |    False |    False |    False |    False |\n",
    "|  8 |    False |    False |    False |    True |    False |    False |    False |\n",
    "|  9 |    False |    False |    True |    False |    False |    False |    False |\n",
    "\n",
    "or just ..."
   ]
  },
  {
   "cell_type": "markdown",
   "id": "56931684-4bb3-45fd-b113-a2810a06ab29",
   "metadata": {
    "slideshow": {
     "slide_type": "subslide"
    }
   },
   "source": [
    "|    |   CN |   CR |   DO |   IN |   KR |   MX |   US |\n",
    "|---:|-----:|-----:|-----:|-----:|-----:|-----:|-----:|\n",
    "|  0 |    1 |    0 |    0 |    0 |    0 |    0 |    0 |\n",
    "|  1 |    0 |    0 |    0 |    0 |    0 |    0 |    1 |\n",
    "|  2 |    1 |    0 |    0 |    0 |    0 |    0 |    0 |\n",
    "|  3 |    0 |    0 |    0 |    0 |    0 |    1 |    0 |\n",
    "|  4 |    1 |    0 |    0 |    0 |    0 |    0 |    0 |\n",
    "|  5 |    1 |    0 |    0 |    0 |    0 |    0 |    0 |\n",
    "|  6 |    0 |    0 |    0 |    0 |    1 |    0 |    0 |\n",
    "|  7 |    0 |    1 |    0 |    0 |    0 |    0 |    0 |\n",
    "|  8 |    0 |    0 |    0 |    1 |    0 |    0 |    0 |\n",
    "|  9 |    0 |    0 |    1 |    0 |    0 |    0 |    0 |"
   ]
  },
  {
   "cell_type": "markdown",
   "id": "3f3c1337-a61d-4e12-8acf-05f4686f3342",
   "metadata": {
    "slideshow": {
     "slide_type": "subslide"
    }
   },
   "source": [
    "This is what we call _binarization_.\n",
    "\n",
    "It is our entry point into effective use of machine learning algorithms ..."
   ]
  },
  {
   "cell_type": "markdown",
   "id": "b9b6b9a0-75a2-4c33-946b-53968f8def48",
   "metadata": {
    "slideshow": {
     "slide_type": "slide"
    }
   },
   "source": [
    "## How do we do this in Pandas / ScikitLearn???\n",
    "\n",
    "* Let's see ..."
   ]
  },
  {
   "cell_type": "code",
   "execution_count": 3,
   "id": "8a83a161-0593-40a9-87f9-242af8e4e7a1",
   "metadata": {
    "slideshow": {
     "slide_type": "subslide"
    },
    "tags": []
   },
   "outputs": [],
   "source": [
    "df_example = df['ISO_CNTRY_CODE'][:10] # first TrueFalse rows of ISO_CNTRY_CODE"
   ]
  },
  {
   "cell_type": "code",
   "execution_count": 4,
   "id": "1add65f9-633a-4ebd-bfca-a0d0f577aa1f",
   "metadata": {
    "slideshow": {
     "slide_type": "subslide"
    },
    "tags": []
   },
   "outputs": [
    {
     "data": {
      "text/plain": [
       "0    CN\n",
       "1    US\n",
       "2    CN\n",
       "3    MX\n",
       "4    CN\n",
       "5    CN\n",
       "6    KR\n",
       "7    CR\n",
       "8    IN\n",
       "9    DO\n",
       "Name: ISO_CNTRY_CODE, dtype: object"
      ]
     },
     "execution_count": 4,
     "metadata": {},
     "output_type": "execute_result"
    }
   ],
   "source": [
    "df_example"
   ]
  },
  {
   "cell_type": "markdown",
   "id": "0b4ac348-2496-4b41-8366-09293fe1395a",
   "metadata": {
    "slideshow": {
     "slide_type": "slide"
    }
   },
   "source": [
    "## Not so useful yet, is it?\n",
    "\n",
    "* before we move on, we will need to install a missing library ..."
   ]
  },
  {
   "cell_type": "code",
   "execution_count": 5,
   "id": "548fad86-2028-44a8-b99e-f19599b58c46",
   "metadata": {
    "slideshow": {
     "slide_type": "subslide"
    },
    "tags": []
   },
   "outputs": [
    {
     "name": "stdout",
     "output_type": "stream",
     "text": [
      "Requirement already satisfied: tabulate in /opt/conda/envs/sau-fall-2023/lib/python3.11/site-packages (0.9.0)\n",
      "Note: you may need to restart the kernel to use updated packages.\n"
     ]
    }
   ],
   "source": [
    "%pip install tabulate  #DON'T FORGET TO DO THIS!!!"
   ]
  },
  {
   "cell_type": "markdown",
   "id": "55ca6203-a9f9-4095-a7ee-ca35e1ccd0b0",
   "metadata": {
    "slideshow": {
     "slide_type": "subslide"
    }
   },
   "source": [
    "## Introducing `pd.get_dummies()` ...\n",
    "\n",
    "* despite it's awful name ...\n",
    "* it does exactly as we would like ...\n",
    "* _convert categorical data into binary one's with named columns_\n",
    "* see the [documentation](https://pandas.pydata.org/pandas-docs/stable/reference/api/pandas.get_dummies.html) for deeper explanation"
   ]
  },
  {
   "cell_type": "markdown",
   "id": "b3d7df3f-967f-498e-beac-cd4a1d4c07a5",
   "metadata": {
    "slideshow": {
     "slide_type": "subslide"
    }
   },
   "source": [
    "## Oh how magical it is ..."
   ]
  },
  {
   "cell_type": "code",
   "execution_count": 6,
   "id": "9f5cad96-0694-4391-87c5-489749704f2d",
   "metadata": {
    "slideshow": {
     "slide_type": "subslide"
    },
    "tags": []
   },
   "outputs": [
    {
     "data": {
      "text/html": [
       "<div>\n",
       "<style scoped>\n",
       "    .dataframe tbody tr th:only-of-type {\n",
       "        vertical-align: middle;\n",
       "    }\n",
       "\n",
       "    .dataframe tbody tr th {\n",
       "        vertical-align: top;\n",
       "    }\n",
       "\n",
       "    .dataframe thead th {\n",
       "        text-align: right;\n",
       "    }\n",
       "</style>\n",
       "<table border=\"1\" class=\"dataframe\">\n",
       "  <thead>\n",
       "    <tr style=\"text-align: right;\">\n",
       "      <th></th>\n",
       "      <th>CN</th>\n",
       "      <th>CR</th>\n",
       "      <th>DO</th>\n",
       "      <th>IN</th>\n",
       "      <th>KR</th>\n",
       "      <th>MX</th>\n",
       "      <th>US</th>\n",
       "    </tr>\n",
       "  </thead>\n",
       "  <tbody>\n",
       "    <tr>\n",
       "      <th>0</th>\n",
       "      <td>True</td>\n",
       "      <td>False</td>\n",
       "      <td>False</td>\n",
       "      <td>False</td>\n",
       "      <td>False</td>\n",
       "      <td>False</td>\n",
       "      <td>False</td>\n",
       "    </tr>\n",
       "    <tr>\n",
       "      <th>1</th>\n",
       "      <td>False</td>\n",
       "      <td>False</td>\n",
       "      <td>False</td>\n",
       "      <td>False</td>\n",
       "      <td>False</td>\n",
       "      <td>False</td>\n",
       "      <td>True</td>\n",
       "    </tr>\n",
       "    <tr>\n",
       "      <th>2</th>\n",
       "      <td>True</td>\n",
       "      <td>False</td>\n",
       "      <td>False</td>\n",
       "      <td>False</td>\n",
       "      <td>False</td>\n",
       "      <td>False</td>\n",
       "      <td>False</td>\n",
       "    </tr>\n",
       "    <tr>\n",
       "      <th>3</th>\n",
       "      <td>False</td>\n",
       "      <td>False</td>\n",
       "      <td>False</td>\n",
       "      <td>False</td>\n",
       "      <td>False</td>\n",
       "      <td>True</td>\n",
       "      <td>False</td>\n",
       "    </tr>\n",
       "    <tr>\n",
       "      <th>4</th>\n",
       "      <td>True</td>\n",
       "      <td>False</td>\n",
       "      <td>False</td>\n",
       "      <td>False</td>\n",
       "      <td>False</td>\n",
       "      <td>False</td>\n",
       "      <td>False</td>\n",
       "    </tr>\n",
       "    <tr>\n",
       "      <th>5</th>\n",
       "      <td>True</td>\n",
       "      <td>False</td>\n",
       "      <td>False</td>\n",
       "      <td>False</td>\n",
       "      <td>False</td>\n",
       "      <td>False</td>\n",
       "      <td>False</td>\n",
       "    </tr>\n",
       "    <tr>\n",
       "      <th>6</th>\n",
       "      <td>False</td>\n",
       "      <td>False</td>\n",
       "      <td>False</td>\n",
       "      <td>False</td>\n",
       "      <td>True</td>\n",
       "      <td>False</td>\n",
       "      <td>False</td>\n",
       "    </tr>\n",
       "    <tr>\n",
       "      <th>7</th>\n",
       "      <td>False</td>\n",
       "      <td>True</td>\n",
       "      <td>False</td>\n",
       "      <td>False</td>\n",
       "      <td>False</td>\n",
       "      <td>False</td>\n",
       "      <td>False</td>\n",
       "    </tr>\n",
       "    <tr>\n",
       "      <th>8</th>\n",
       "      <td>False</td>\n",
       "      <td>False</td>\n",
       "      <td>False</td>\n",
       "      <td>True</td>\n",
       "      <td>False</td>\n",
       "      <td>False</td>\n",
       "      <td>False</td>\n",
       "    </tr>\n",
       "    <tr>\n",
       "      <th>9</th>\n",
       "      <td>False</td>\n",
       "      <td>False</td>\n",
       "      <td>True</td>\n",
       "      <td>False</td>\n",
       "      <td>False</td>\n",
       "      <td>False</td>\n",
       "      <td>False</td>\n",
       "    </tr>\n",
       "  </tbody>\n",
       "</table>\n",
       "</div>"
      ],
      "text/plain": [
       "      CN     CR     DO     IN     KR     MX     US\n",
       "0   True  False  False  False  False  False  False\n",
       "1  False  False  False  False  False  False   True\n",
       "2   True  False  False  False  False  False  False\n",
       "3  False  False  False  False  False   True  False\n",
       "4   True  False  False  False  False  False  False\n",
       "5   True  False  False  False  False  False  False\n",
       "6  False  False  False  False   True  False  False\n",
       "7  False   True  False  False  False  False  False\n",
       "8  False  False  False   True  False  False  False\n",
       "9  False  False   True  False  False  False  False"
      ]
     },
     "execution_count": 6,
     "metadata": {},
     "output_type": "execute_result"
    }
   ],
   "source": [
    "pd.get_dummies(df_example)"
   ]
  },
  {
   "cell_type": "markdown",
   "id": "d42375af-1a46-4b72-b806-beeac18aa5e3",
   "metadata": {
    "slideshow": {
     "slide_type": "subslide"
    }
   },
   "source": [
    "## Or ..."
   ]
  },
  {
   "cell_type": "code",
   "execution_count": 7,
   "id": "47dc2414-d6b9-45c3-8c6a-beecaf811e59",
   "metadata": {
    "slideshow": {
     "slide_type": "subslide"
    },
    "tags": []
   },
   "outputs": [
    {
     "data": {
      "text/html": [
       "<div>\n",
       "<style scoped>\n",
       "    .dataframe tbody tr th:only-of-type {\n",
       "        vertical-align: middle;\n",
       "    }\n",
       "\n",
       "    .dataframe tbody tr th {\n",
       "        vertical-align: top;\n",
       "    }\n",
       "\n",
       "    .dataframe thead th {\n",
       "        text-align: right;\n",
       "    }\n",
       "</style>\n",
       "<table border=\"1\" class=\"dataframe\">\n",
       "  <thead>\n",
       "    <tr style=\"text-align: right;\">\n",
       "      <th></th>\n",
       "      <th>CN</th>\n",
       "      <th>CR</th>\n",
       "      <th>DO</th>\n",
       "      <th>IN</th>\n",
       "      <th>KR</th>\n",
       "      <th>MX</th>\n",
       "      <th>US</th>\n",
       "    </tr>\n",
       "  </thead>\n",
       "  <tbody>\n",
       "    <tr>\n",
       "      <th>0</th>\n",
       "      <td>1</td>\n",
       "      <td>0</td>\n",
       "      <td>0</td>\n",
       "      <td>0</td>\n",
       "      <td>0</td>\n",
       "      <td>0</td>\n",
       "      <td>0</td>\n",
       "    </tr>\n",
       "    <tr>\n",
       "      <th>1</th>\n",
       "      <td>0</td>\n",
       "      <td>0</td>\n",
       "      <td>0</td>\n",
       "      <td>0</td>\n",
       "      <td>0</td>\n",
       "      <td>0</td>\n",
       "      <td>1</td>\n",
       "    </tr>\n",
       "    <tr>\n",
       "      <th>2</th>\n",
       "      <td>1</td>\n",
       "      <td>0</td>\n",
       "      <td>0</td>\n",
       "      <td>0</td>\n",
       "      <td>0</td>\n",
       "      <td>0</td>\n",
       "      <td>0</td>\n",
       "    </tr>\n",
       "    <tr>\n",
       "      <th>3</th>\n",
       "      <td>0</td>\n",
       "      <td>0</td>\n",
       "      <td>0</td>\n",
       "      <td>0</td>\n",
       "      <td>0</td>\n",
       "      <td>1</td>\n",
       "      <td>0</td>\n",
       "    </tr>\n",
       "    <tr>\n",
       "      <th>4</th>\n",
       "      <td>1</td>\n",
       "      <td>0</td>\n",
       "      <td>0</td>\n",
       "      <td>0</td>\n",
       "      <td>0</td>\n",
       "      <td>0</td>\n",
       "      <td>0</td>\n",
       "    </tr>\n",
       "    <tr>\n",
       "      <th>5</th>\n",
       "      <td>1</td>\n",
       "      <td>0</td>\n",
       "      <td>0</td>\n",
       "      <td>0</td>\n",
       "      <td>0</td>\n",
       "      <td>0</td>\n",
       "      <td>0</td>\n",
       "    </tr>\n",
       "    <tr>\n",
       "      <th>6</th>\n",
       "      <td>0</td>\n",
       "      <td>0</td>\n",
       "      <td>0</td>\n",
       "      <td>0</td>\n",
       "      <td>1</td>\n",
       "      <td>0</td>\n",
       "      <td>0</td>\n",
       "    </tr>\n",
       "    <tr>\n",
       "      <th>7</th>\n",
       "      <td>0</td>\n",
       "      <td>1</td>\n",
       "      <td>0</td>\n",
       "      <td>0</td>\n",
       "      <td>0</td>\n",
       "      <td>0</td>\n",
       "      <td>0</td>\n",
       "    </tr>\n",
       "    <tr>\n",
       "      <th>8</th>\n",
       "      <td>0</td>\n",
       "      <td>0</td>\n",
       "      <td>0</td>\n",
       "      <td>1</td>\n",
       "      <td>0</td>\n",
       "      <td>0</td>\n",
       "      <td>0</td>\n",
       "    </tr>\n",
       "    <tr>\n",
       "      <th>9</th>\n",
       "      <td>0</td>\n",
       "      <td>0</td>\n",
       "      <td>1</td>\n",
       "      <td>0</td>\n",
       "      <td>0</td>\n",
       "      <td>0</td>\n",
       "      <td>0</td>\n",
       "    </tr>\n",
       "  </tbody>\n",
       "</table>\n",
       "</div>"
      ],
      "text/plain": [
       "   CN  CR  DO  IN  KR  MX  US\n",
       "0   1   0   0   0   0   0   0\n",
       "1   0   0   0   0   0   0   1\n",
       "2   1   0   0   0   0   0   0\n",
       "3   0   0   0   0   0   1   0\n",
       "4   1   0   0   0   0   0   0\n",
       "5   1   0   0   0   0   0   0\n",
       "6   0   0   0   0   1   0   0\n",
       "7   0   1   0   0   0   0   0\n",
       "8   0   0   0   1   0   0   0\n",
       "9   0   0   1   0   0   0   0"
      ]
     },
     "execution_count": 7,
     "metadata": {},
     "output_type": "execute_result"
    }
   ],
   "source": [
    "pd.get_dummies(df_example, dtype=int)"
   ]
  },
  {
   "cell_type": "markdown",
   "id": "85f57906-3cde-42f5-b2be-e8bb857b5688",
   "metadata": {
    "slideshow": {
     "slide_type": "subslide"
    }
   },
   "source": [
    "## And one other thing ...\n",
    "\n",
    "* as the assignment expects, we need a lot more data\n",
    "* so we can `get_dummies` on just the data we need ...\n",
    "* like this ..."
   ]
  },
  {
   "cell_type": "code",
   "execution_count": 8,
   "id": "30cf15a5-dd68-4f14-9008-2c92b8028235",
   "metadata": {
    "slideshow": {
     "slide_type": "subslide"
    },
    "tags": []
   },
   "outputs": [],
   "source": [
    "df_example_2 = df[['ISO_CNTRY_CODE','CITY_NAME']][:10]"
   ]
  },
  {
   "cell_type": "code",
   "execution_count": 9,
   "id": "832f6cab-6e66-44a6-b7a6-dfb13a1719eb",
   "metadata": {
    "slideshow": {
     "slide_type": "subslide"
    },
    "tags": []
   },
   "outputs": [
    {
     "data": {
      "text/html": [
       "<div>\n",
       "<style scoped>\n",
       "    .dataframe tbody tr th:only-of-type {\n",
       "        vertical-align: middle;\n",
       "    }\n",
       "\n",
       "    .dataframe tbody tr th {\n",
       "        vertical-align: top;\n",
       "    }\n",
       "\n",
       "    .dataframe thead th {\n",
       "        text-align: right;\n",
       "    }\n",
       "</style>\n",
       "<table border=\"1\" class=\"dataframe\">\n",
       "  <thead>\n",
       "    <tr style=\"text-align: right;\">\n",
       "      <th></th>\n",
       "      <th>ISO_CNTRY_CODE</th>\n",
       "      <th>CITY_NAME</th>\n",
       "    </tr>\n",
       "  </thead>\n",
       "  <tbody>\n",
       "    <tr>\n",
       "      <th>0</th>\n",
       "      <td>CN</td>\n",
       "      <td>Chengdu</td>\n",
       "    </tr>\n",
       "    <tr>\n",
       "      <th>1</th>\n",
       "      <td>US</td>\n",
       "      <td>Kings Park</td>\n",
       "    </tr>\n",
       "    <tr>\n",
       "      <th>2</th>\n",
       "      <td>CN</td>\n",
       "      <td>Wuhu</td>\n",
       "    </tr>\n",
       "    <tr>\n",
       "      <th>3</th>\n",
       "      <td>MX</td>\n",
       "      <td>Guadalajara</td>\n",
       "    </tr>\n",
       "    <tr>\n",
       "      <th>4</th>\n",
       "      <td>CN</td>\n",
       "      <td>Shantou</td>\n",
       "    </tr>\n",
       "    <tr>\n",
       "      <th>5</th>\n",
       "      <td>CN</td>\n",
       "      <td>Dandong</td>\n",
       "    </tr>\n",
       "    <tr>\n",
       "      <th>6</th>\n",
       "      <td>KR</td>\n",
       "      <td>Yeosu-City</td>\n",
       "    </tr>\n",
       "    <tr>\n",
       "      <th>7</th>\n",
       "      <td>CR</td>\n",
       "      <td>Puntarenas</td>\n",
       "    </tr>\n",
       "    <tr>\n",
       "      <th>8</th>\n",
       "      <td>IN</td>\n",
       "      <td>New Delhi</td>\n",
       "    </tr>\n",
       "    <tr>\n",
       "      <th>9</th>\n",
       "      <td>DO</td>\n",
       "      <td>MOCA</td>\n",
       "    </tr>\n",
       "  </tbody>\n",
       "</table>\n",
       "</div>"
      ],
      "text/plain": [
       "  ISO_CNTRY_CODE    CITY_NAME\n",
       "0             CN      Chengdu\n",
       "1             US   Kings Park\n",
       "2             CN         Wuhu\n",
       "3             MX  Guadalajara\n",
       "4             CN      Shantou\n",
       "5             CN      Dandong\n",
       "6             KR   Yeosu-City\n",
       "7             CR   Puntarenas\n",
       "8             IN    New Delhi\n",
       "9             DO         MOCA"
      ]
     },
     "execution_count": 9,
     "metadata": {},
     "output_type": "execute_result"
    }
   ],
   "source": [
    "df_example_2"
   ]
  },
  {
   "cell_type": "code",
   "execution_count": 10,
   "id": "10bae2d5-b799-4e7a-ae0c-d65601598174",
   "metadata": {
    "slideshow": {
     "slide_type": "subslide"
    },
    "tags": []
   },
   "outputs": [
    {
     "data": {
      "text/html": [
       "<div>\n",
       "<style scoped>\n",
       "    .dataframe tbody tr th:only-of-type {\n",
       "        vertical-align: middle;\n",
       "    }\n",
       "\n",
       "    .dataframe tbody tr th {\n",
       "        vertical-align: top;\n",
       "    }\n",
       "\n",
       "    .dataframe thead th {\n",
       "        text-align: right;\n",
       "    }\n",
       "</style>\n",
       "<table border=\"1\" class=\"dataframe\">\n",
       "  <thead>\n",
       "    <tr style=\"text-align: right;\">\n",
       "      <th></th>\n",
       "      <th>ISO_CNTRY_CODE_CN</th>\n",
       "      <th>ISO_CNTRY_CODE_CR</th>\n",
       "      <th>ISO_CNTRY_CODE_DO</th>\n",
       "      <th>ISO_CNTRY_CODE_IN</th>\n",
       "      <th>ISO_CNTRY_CODE_KR</th>\n",
       "      <th>ISO_CNTRY_CODE_MX</th>\n",
       "      <th>ISO_CNTRY_CODE_US</th>\n",
       "      <th>CITY_NAME_Chengdu</th>\n",
       "      <th>CITY_NAME_Dandong</th>\n",
       "      <th>CITY_NAME_Guadalajara</th>\n",
       "      <th>CITY_NAME_Kings Park</th>\n",
       "      <th>CITY_NAME_MOCA</th>\n",
       "      <th>CITY_NAME_New Delhi</th>\n",
       "      <th>CITY_NAME_Puntarenas</th>\n",
       "      <th>CITY_NAME_Shantou</th>\n",
       "      <th>CITY_NAME_Wuhu</th>\n",
       "      <th>CITY_NAME_Yeosu-City</th>\n",
       "    </tr>\n",
       "  </thead>\n",
       "  <tbody>\n",
       "    <tr>\n",
       "      <th>0</th>\n",
       "      <td>True</td>\n",
       "      <td>False</td>\n",
       "      <td>False</td>\n",
       "      <td>False</td>\n",
       "      <td>False</td>\n",
       "      <td>False</td>\n",
       "      <td>False</td>\n",
       "      <td>True</td>\n",
       "      <td>False</td>\n",
       "      <td>False</td>\n",
       "      <td>False</td>\n",
       "      <td>False</td>\n",
       "      <td>False</td>\n",
       "      <td>False</td>\n",
       "      <td>False</td>\n",
       "      <td>False</td>\n",
       "      <td>False</td>\n",
       "    </tr>\n",
       "    <tr>\n",
       "      <th>1</th>\n",
       "      <td>False</td>\n",
       "      <td>False</td>\n",
       "      <td>False</td>\n",
       "      <td>False</td>\n",
       "      <td>False</td>\n",
       "      <td>False</td>\n",
       "      <td>True</td>\n",
       "      <td>False</td>\n",
       "      <td>False</td>\n",
       "      <td>False</td>\n",
       "      <td>True</td>\n",
       "      <td>False</td>\n",
       "      <td>False</td>\n",
       "      <td>False</td>\n",
       "      <td>False</td>\n",
       "      <td>False</td>\n",
       "      <td>False</td>\n",
       "    </tr>\n",
       "    <tr>\n",
       "      <th>2</th>\n",
       "      <td>True</td>\n",
       "      <td>False</td>\n",
       "      <td>False</td>\n",
       "      <td>False</td>\n",
       "      <td>False</td>\n",
       "      <td>False</td>\n",
       "      <td>False</td>\n",
       "      <td>False</td>\n",
       "      <td>False</td>\n",
       "      <td>False</td>\n",
       "      <td>False</td>\n",
       "      <td>False</td>\n",
       "      <td>False</td>\n",
       "      <td>False</td>\n",
       "      <td>False</td>\n",
       "      <td>True</td>\n",
       "      <td>False</td>\n",
       "    </tr>\n",
       "    <tr>\n",
       "      <th>3</th>\n",
       "      <td>False</td>\n",
       "      <td>False</td>\n",
       "      <td>False</td>\n",
       "      <td>False</td>\n",
       "      <td>False</td>\n",
       "      <td>True</td>\n",
       "      <td>False</td>\n",
       "      <td>False</td>\n",
       "      <td>False</td>\n",
       "      <td>True</td>\n",
       "      <td>False</td>\n",
       "      <td>False</td>\n",
       "      <td>False</td>\n",
       "      <td>False</td>\n",
       "      <td>False</td>\n",
       "      <td>False</td>\n",
       "      <td>False</td>\n",
       "    </tr>\n",
       "    <tr>\n",
       "      <th>4</th>\n",
       "      <td>True</td>\n",
       "      <td>False</td>\n",
       "      <td>False</td>\n",
       "      <td>False</td>\n",
       "      <td>False</td>\n",
       "      <td>False</td>\n",
       "      <td>False</td>\n",
       "      <td>False</td>\n",
       "      <td>False</td>\n",
       "      <td>False</td>\n",
       "      <td>False</td>\n",
       "      <td>False</td>\n",
       "      <td>False</td>\n",
       "      <td>False</td>\n",
       "      <td>True</td>\n",
       "      <td>False</td>\n",
       "      <td>False</td>\n",
       "    </tr>\n",
       "    <tr>\n",
       "      <th>5</th>\n",
       "      <td>True</td>\n",
       "      <td>False</td>\n",
       "      <td>False</td>\n",
       "      <td>False</td>\n",
       "      <td>False</td>\n",
       "      <td>False</td>\n",
       "      <td>False</td>\n",
       "      <td>False</td>\n",
       "      <td>True</td>\n",
       "      <td>False</td>\n",
       "      <td>False</td>\n",
       "      <td>False</td>\n",
       "      <td>False</td>\n",
       "      <td>False</td>\n",
       "      <td>False</td>\n",
       "      <td>False</td>\n",
       "      <td>False</td>\n",
       "    </tr>\n",
       "    <tr>\n",
       "      <th>6</th>\n",
       "      <td>False</td>\n",
       "      <td>False</td>\n",
       "      <td>False</td>\n",
       "      <td>False</td>\n",
       "      <td>True</td>\n",
       "      <td>False</td>\n",
       "      <td>False</td>\n",
       "      <td>False</td>\n",
       "      <td>False</td>\n",
       "      <td>False</td>\n",
       "      <td>False</td>\n",
       "      <td>False</td>\n",
       "      <td>False</td>\n",
       "      <td>False</td>\n",
       "      <td>False</td>\n",
       "      <td>False</td>\n",
       "      <td>True</td>\n",
       "    </tr>\n",
       "    <tr>\n",
       "      <th>7</th>\n",
       "      <td>False</td>\n",
       "      <td>True</td>\n",
       "      <td>False</td>\n",
       "      <td>False</td>\n",
       "      <td>False</td>\n",
       "      <td>False</td>\n",
       "      <td>False</td>\n",
       "      <td>False</td>\n",
       "      <td>False</td>\n",
       "      <td>False</td>\n",
       "      <td>False</td>\n",
       "      <td>False</td>\n",
       "      <td>False</td>\n",
       "      <td>True</td>\n",
       "      <td>False</td>\n",
       "      <td>False</td>\n",
       "      <td>False</td>\n",
       "    </tr>\n",
       "    <tr>\n",
       "      <th>8</th>\n",
       "      <td>False</td>\n",
       "      <td>False</td>\n",
       "      <td>False</td>\n",
       "      <td>True</td>\n",
       "      <td>False</td>\n",
       "      <td>False</td>\n",
       "      <td>False</td>\n",
       "      <td>False</td>\n",
       "      <td>False</td>\n",
       "      <td>False</td>\n",
       "      <td>False</td>\n",
       "      <td>False</td>\n",
       "      <td>True</td>\n",
       "      <td>False</td>\n",
       "      <td>False</td>\n",
       "      <td>False</td>\n",
       "      <td>False</td>\n",
       "    </tr>\n",
       "    <tr>\n",
       "      <th>9</th>\n",
       "      <td>False</td>\n",
       "      <td>False</td>\n",
       "      <td>True</td>\n",
       "      <td>False</td>\n",
       "      <td>False</td>\n",
       "      <td>False</td>\n",
       "      <td>False</td>\n",
       "      <td>False</td>\n",
       "      <td>False</td>\n",
       "      <td>False</td>\n",
       "      <td>False</td>\n",
       "      <td>True</td>\n",
       "      <td>False</td>\n",
       "      <td>False</td>\n",
       "      <td>False</td>\n",
       "      <td>False</td>\n",
       "      <td>False</td>\n",
       "    </tr>\n",
       "  </tbody>\n",
       "</table>\n",
       "</div>"
      ],
      "text/plain": [
       "   ISO_CNTRY_CODE_CN  ISO_CNTRY_CODE_CR  ISO_CNTRY_CODE_DO  ISO_CNTRY_CODE_IN  \\\n",
       "0               True              False              False              False   \n",
       "1              False              False              False              False   \n",
       "2               True              False              False              False   \n",
       "3              False              False              False              False   \n",
       "4               True              False              False              False   \n",
       "5               True              False              False              False   \n",
       "6              False              False              False              False   \n",
       "7              False               True              False              False   \n",
       "8              False              False              False               True   \n",
       "9              False              False               True              False   \n",
       "\n",
       "   ISO_CNTRY_CODE_KR  ISO_CNTRY_CODE_MX  ISO_CNTRY_CODE_US  CITY_NAME_Chengdu  \\\n",
       "0              False              False              False               True   \n",
       "1              False              False               True              False   \n",
       "2              False              False              False              False   \n",
       "3              False               True              False              False   \n",
       "4              False              False              False              False   \n",
       "5              False              False              False              False   \n",
       "6               True              False              False              False   \n",
       "7              False              False              False              False   \n",
       "8              False              False              False              False   \n",
       "9              False              False              False              False   \n",
       "\n",
       "   CITY_NAME_Dandong  CITY_NAME_Guadalajara  CITY_NAME_Kings Park  \\\n",
       "0              False                  False                 False   \n",
       "1              False                  False                  True   \n",
       "2              False                  False                 False   \n",
       "3              False                   True                 False   \n",
       "4              False                  False                 False   \n",
       "5               True                  False                 False   \n",
       "6              False                  False                 False   \n",
       "7              False                  False                 False   \n",
       "8              False                  False                 False   \n",
       "9              False                  False                 False   \n",
       "\n",
       "   CITY_NAME_MOCA  CITY_NAME_New Delhi  CITY_NAME_Puntarenas  \\\n",
       "0           False                False                 False   \n",
       "1           False                False                 False   \n",
       "2           False                False                 False   \n",
       "3           False                False                 False   \n",
       "4           False                False                 False   \n",
       "5           False                False                 False   \n",
       "6           False                False                 False   \n",
       "7           False                False                  True   \n",
       "8           False                 True                 False   \n",
       "9            True                False                 False   \n",
       "\n",
       "   CITY_NAME_Shantou  CITY_NAME_Wuhu  CITY_NAME_Yeosu-City  \n",
       "0              False           False                 False  \n",
       "1              False           False                 False  \n",
       "2              False            True                 False  \n",
       "3              False           False                 False  \n",
       "4               True           False                 False  \n",
       "5              False           False                 False  \n",
       "6              False           False                  True  \n",
       "7              False           False                 False  \n",
       "8              False           False                 False  \n",
       "9              False           False                 False  "
      ]
     },
     "execution_count": 10,
     "metadata": {},
     "output_type": "execute_result"
    }
   ],
   "source": [
    "pd.get_dummies(df_example_2)"
   ]
  },
  {
   "cell_type": "markdown",
   "id": "5f766f9f-5057-4b16-98e8-2cfee8767a94",
   "metadata": {
    "slideshow": {
     "slide_type": "slide"
    }
   },
   "source": [
    "## But while Pandas is cool ...\n",
    "\n",
    "* `sklearn` is also -- and we can do almost the exact same thing \n",
    "* we can use [`sklearn.preprocessing.LabelBinarizer()`](https://scikit-learn.org/stable/modules/generated/sklearn.preprocessing.LabelBinarizer.html)\n",
    "* let's see how ..."
   ]
  },
  {
   "cell_type": "code",
   "execution_count": 11,
   "id": "a9a5300f-60e6-4fd2-b4b2-60a592e46ab2",
   "metadata": {
    "slideshow": {
     "slide_type": "subslide"
    }
   },
   "outputs": [],
   "source": [
    "from sklearn.preprocessing import MultiLabelBinarizer, LabelBinarizer"
   ]
  },
  {
   "cell_type": "code",
   "execution_count": 12,
   "id": "bb1d2675-b93a-4888-ab2d-e47809e64bb6",
   "metadata": {
    "slideshow": {
     "slide_type": "subslide"
    },
    "tags": []
   },
   "outputs": [
    {
     "data": {
      "text/html": [
       "<div>\n",
       "<style scoped>\n",
       "    .dataframe tbody tr th:only-of-type {\n",
       "        vertical-align: middle;\n",
       "    }\n",
       "\n",
       "    .dataframe tbody tr th {\n",
       "        vertical-align: top;\n",
       "    }\n",
       "\n",
       "    .dataframe thead th {\n",
       "        text-align: right;\n",
       "    }\n",
       "</style>\n",
       "<table border=\"1\" class=\"dataframe\">\n",
       "  <thead>\n",
       "    <tr style=\"text-align: right;\">\n",
       "      <th></th>\n",
       "      <th>ISO_CNTRY_CODE</th>\n",
       "      <th>CITY_NAME</th>\n",
       "    </tr>\n",
       "  </thead>\n",
       "  <tbody>\n",
       "    <tr>\n",
       "      <th>0</th>\n",
       "      <td>CN</td>\n",
       "      <td>Chengdu</td>\n",
       "    </tr>\n",
       "    <tr>\n",
       "      <th>1</th>\n",
       "      <td>US</td>\n",
       "      <td>Kings Park</td>\n",
       "    </tr>\n",
       "    <tr>\n",
       "      <th>2</th>\n",
       "      <td>CN</td>\n",
       "      <td>Wuhu</td>\n",
       "    </tr>\n",
       "    <tr>\n",
       "      <th>3</th>\n",
       "      <td>MX</td>\n",
       "      <td>Guadalajara</td>\n",
       "    </tr>\n",
       "    <tr>\n",
       "      <th>4</th>\n",
       "      <td>CN</td>\n",
       "      <td>Shantou</td>\n",
       "    </tr>\n",
       "    <tr>\n",
       "      <th>5</th>\n",
       "      <td>CN</td>\n",
       "      <td>Dandong</td>\n",
       "    </tr>\n",
       "    <tr>\n",
       "      <th>6</th>\n",
       "      <td>KR</td>\n",
       "      <td>Yeosu-City</td>\n",
       "    </tr>\n",
       "    <tr>\n",
       "      <th>7</th>\n",
       "      <td>CR</td>\n",
       "      <td>Puntarenas</td>\n",
       "    </tr>\n",
       "    <tr>\n",
       "      <th>8</th>\n",
       "      <td>IN</td>\n",
       "      <td>New Delhi</td>\n",
       "    </tr>\n",
       "    <tr>\n",
       "      <th>9</th>\n",
       "      <td>DO</td>\n",
       "      <td>MOCA</td>\n",
       "    </tr>\n",
       "  </tbody>\n",
       "</table>\n",
       "</div>"
      ],
      "text/plain": [
       "  ISO_CNTRY_CODE    CITY_NAME\n",
       "0             CN      Chengdu\n",
       "1             US   Kings Park\n",
       "2             CN         Wuhu\n",
       "3             MX  Guadalajara\n",
       "4             CN      Shantou\n",
       "5             CN      Dandong\n",
       "6             KR   Yeosu-City\n",
       "7             CR   Puntarenas\n",
       "8             IN    New Delhi\n",
       "9             DO         MOCA"
      ]
     },
     "execution_count": 12,
     "metadata": {},
     "output_type": "execute_result"
    }
   ],
   "source": [
    "df_example_2"
   ]
  },
  {
   "cell_type": "code",
   "execution_count": 13,
   "id": "daa02cf4-328e-4e89-8316-882ea379377d",
   "metadata": {
    "slideshow": {
     "slide_type": "subslide"
    },
    "tags": []
   },
   "outputs": [
    {
     "data": {
      "text/plain": [
       "array([[1, 0, 0, 0, 0, 0, 0, 0, 0, 0],\n",
       "       [0, 0, 0, 1, 0, 0, 0, 0, 0, 0],\n",
       "       [0, 0, 0, 0, 0, 0, 0, 0, 1, 0],\n",
       "       [0, 0, 1, 0, 0, 0, 0, 0, 0, 0],\n",
       "       [0, 0, 0, 0, 0, 0, 0, 1, 0, 0],\n",
       "       [0, 1, 0, 0, 0, 0, 0, 0, 0, 0],\n",
       "       [0, 0, 0, 0, 0, 0, 0, 0, 0, 1],\n",
       "       [0, 0, 0, 0, 0, 0, 1, 0, 0, 0],\n",
       "       [0, 0, 0, 0, 0, 1, 0, 0, 0, 0],\n",
       "       [0, 0, 0, 0, 1, 0, 0, 0, 0, 0]])"
      ]
     },
     "execution_count": 13,
     "metadata": {},
     "output_type": "execute_result"
    }
   ],
   "source": [
    "lb = LabelBinarizer()\n",
    "lb.fit_transform(df_example_2.CITY_NAME)"
   ]
  },
  {
   "cell_type": "code",
   "execution_count": 14,
   "id": "a3248a52-d5af-4e75-be41-421e956b9f1f",
   "metadata": {
    "slideshow": {
     "slide_type": "subslide"
    },
    "tags": []
   },
   "outputs": [
    {
     "data": {
      "text/plain": [
       "array(['Chengdu', 'Dandong', 'Guadalajara', 'Kings Park', 'MOCA',\n",
       "       'New Delhi', 'Puntarenas', 'Shantou', 'Wuhu', 'Yeosu-City'],\n",
       "      dtype='<U11')"
      ]
     },
     "execution_count": 14,
     "metadata": {},
     "output_type": "execute_result"
    }
   ],
   "source": [
    "lb.classes_"
   ]
  },
  {
   "cell_type": "code",
   "execution_count": 15,
   "id": "015503fb-fd07-44dc-9978-79f4c6413b00",
   "metadata": {
    "slideshow": {
     "slide_type": "subslide"
    },
    "tags": []
   },
   "outputs": [
    {
     "data": {
      "text/plain": [
       "array([[1, 0, 0, 0, 0, 0, 0],\n",
       "       [0, 0, 0, 0, 0, 0, 1],\n",
       "       [1, 0, 0, 0, 0, 0, 0],\n",
       "       [0, 0, 0, 0, 0, 1, 0],\n",
       "       [1, 0, 0, 0, 0, 0, 0],\n",
       "       [1, 0, 0, 0, 0, 0, 0],\n",
       "       [0, 0, 0, 0, 1, 0, 0],\n",
       "       [0, 1, 0, 0, 0, 0, 0],\n",
       "       [0, 0, 0, 1, 0, 0, 0],\n",
       "       [0, 0, 1, 0, 0, 0, 0]])"
      ]
     },
     "execution_count": 15,
     "metadata": {},
     "output_type": "execute_result"
    }
   ],
   "source": [
    "lb = LabelBinarizer()\n",
    "lb.fit_transform(df_example_2.ISO_CNTRY_CODE)#, columns=lb.classes_, index=df.index)"
   ]
  },
  {
   "cell_type": "code",
   "execution_count": 16,
   "id": "de25f804-ae6c-4a0d-9d5a-51bf3ca1867c",
   "metadata": {
    "slideshow": {
     "slide_type": "subslide"
    },
    "tags": []
   },
   "outputs": [
    {
     "data": {
      "text/plain": [
       "array(['CN', 'CR', 'DO', 'IN', 'KR', 'MX', 'US'], dtype='<U2')"
      ]
     },
     "execution_count": 16,
     "metadata": {},
     "output_type": "execute_result"
    }
   ],
   "source": [
    "lb.classes_"
   ]
  },
  {
   "cell_type": "markdown",
   "id": "410ae289-54a7-430f-9ec0-5a929fe9814c",
   "metadata": {
    "slideshow": {
     "slide_type": "subslide"
    }
   },
   "source": [
    "## Gluing it together as a Dataframe requires a little extra ...\n",
    "\n",
    "* we will take the output and put them in a Dataframe ...\n",
    "* so we can _understand_ what we are seeing\n",
    "* but in the end, we'll end up back on ScikitLearn for clustering ..."
   ]
  },
  {
   "cell_type": "code",
   "execution_count": 17,
   "id": "60f3bf0a-0c56-478e-82d8-d4c341d144b3",
   "metadata": {
    "slideshow": {
     "slide_type": "subslide"
    },
    "tags": []
   },
   "outputs": [],
   "source": [
    "lb = LabelBinarizer()\n",
    "df_a = pd.DataFrame(lb.fit_transform(df_example_2.CITY_NAME), columns=lb.classes_, index=df_example_2.index)\n",
    "df_b = pd.DataFrame(lb.fit_transform(df_example_2.ISO_CNTRY_CODE), columns=lb.classes_, index=df_example_2.index)"
   ]
  },
  {
   "cell_type": "code",
   "execution_count": 18,
   "id": "24fc8826-e17d-4c1a-ad38-ec867abb487e",
   "metadata": {
    "slideshow": {
     "slide_type": "subslide"
    },
    "tags": []
   },
   "outputs": [
    {
     "data": {
      "text/html": [
       "<div>\n",
       "<style scoped>\n",
       "    .dataframe tbody tr th:only-of-type {\n",
       "        vertical-align: middle;\n",
       "    }\n",
       "\n",
       "    .dataframe tbody tr th {\n",
       "        vertical-align: top;\n",
       "    }\n",
       "\n",
       "    .dataframe thead th {\n",
       "        text-align: right;\n",
       "    }\n",
       "</style>\n",
       "<table border=\"1\" class=\"dataframe\">\n",
       "  <thead>\n",
       "    <tr style=\"text-align: right;\">\n",
       "      <th></th>\n",
       "      <th>Chengdu</th>\n",
       "      <th>Dandong</th>\n",
       "      <th>Guadalajara</th>\n",
       "      <th>Kings Park</th>\n",
       "      <th>MOCA</th>\n",
       "      <th>New Delhi</th>\n",
       "      <th>Puntarenas</th>\n",
       "      <th>Shantou</th>\n",
       "      <th>Wuhu</th>\n",
       "      <th>Yeosu-City</th>\n",
       "    </tr>\n",
       "  </thead>\n",
       "  <tbody>\n",
       "    <tr>\n",
       "      <th>0</th>\n",
       "      <td>1</td>\n",
       "      <td>0</td>\n",
       "      <td>0</td>\n",
       "      <td>0</td>\n",
       "      <td>0</td>\n",
       "      <td>0</td>\n",
       "      <td>0</td>\n",
       "      <td>0</td>\n",
       "      <td>0</td>\n",
       "      <td>0</td>\n",
       "    </tr>\n",
       "    <tr>\n",
       "      <th>1</th>\n",
       "      <td>0</td>\n",
       "      <td>0</td>\n",
       "      <td>0</td>\n",
       "      <td>1</td>\n",
       "      <td>0</td>\n",
       "      <td>0</td>\n",
       "      <td>0</td>\n",
       "      <td>0</td>\n",
       "      <td>0</td>\n",
       "      <td>0</td>\n",
       "    </tr>\n",
       "    <tr>\n",
       "      <th>2</th>\n",
       "      <td>0</td>\n",
       "      <td>0</td>\n",
       "      <td>0</td>\n",
       "      <td>0</td>\n",
       "      <td>0</td>\n",
       "      <td>0</td>\n",
       "      <td>0</td>\n",
       "      <td>0</td>\n",
       "      <td>1</td>\n",
       "      <td>0</td>\n",
       "    </tr>\n",
       "    <tr>\n",
       "      <th>3</th>\n",
       "      <td>0</td>\n",
       "      <td>0</td>\n",
       "      <td>1</td>\n",
       "      <td>0</td>\n",
       "      <td>0</td>\n",
       "      <td>0</td>\n",
       "      <td>0</td>\n",
       "      <td>0</td>\n",
       "      <td>0</td>\n",
       "      <td>0</td>\n",
       "    </tr>\n",
       "    <tr>\n",
       "      <th>4</th>\n",
       "      <td>0</td>\n",
       "      <td>0</td>\n",
       "      <td>0</td>\n",
       "      <td>0</td>\n",
       "      <td>0</td>\n",
       "      <td>0</td>\n",
       "      <td>0</td>\n",
       "      <td>1</td>\n",
       "      <td>0</td>\n",
       "      <td>0</td>\n",
       "    </tr>\n",
       "    <tr>\n",
       "      <th>5</th>\n",
       "      <td>0</td>\n",
       "      <td>1</td>\n",
       "      <td>0</td>\n",
       "      <td>0</td>\n",
       "      <td>0</td>\n",
       "      <td>0</td>\n",
       "      <td>0</td>\n",
       "      <td>0</td>\n",
       "      <td>0</td>\n",
       "      <td>0</td>\n",
       "    </tr>\n",
       "    <tr>\n",
       "      <th>6</th>\n",
       "      <td>0</td>\n",
       "      <td>0</td>\n",
       "      <td>0</td>\n",
       "      <td>0</td>\n",
       "      <td>0</td>\n",
       "      <td>0</td>\n",
       "      <td>0</td>\n",
       "      <td>0</td>\n",
       "      <td>0</td>\n",
       "      <td>1</td>\n",
       "    </tr>\n",
       "    <tr>\n",
       "      <th>7</th>\n",
       "      <td>0</td>\n",
       "      <td>0</td>\n",
       "      <td>0</td>\n",
       "      <td>0</td>\n",
       "      <td>0</td>\n",
       "      <td>0</td>\n",
       "      <td>1</td>\n",
       "      <td>0</td>\n",
       "      <td>0</td>\n",
       "      <td>0</td>\n",
       "    </tr>\n",
       "    <tr>\n",
       "      <th>8</th>\n",
       "      <td>0</td>\n",
       "      <td>0</td>\n",
       "      <td>0</td>\n",
       "      <td>0</td>\n",
       "      <td>0</td>\n",
       "      <td>1</td>\n",
       "      <td>0</td>\n",
       "      <td>0</td>\n",
       "      <td>0</td>\n",
       "      <td>0</td>\n",
       "    </tr>\n",
       "    <tr>\n",
       "      <th>9</th>\n",
       "      <td>0</td>\n",
       "      <td>0</td>\n",
       "      <td>0</td>\n",
       "      <td>0</td>\n",
       "      <td>1</td>\n",
       "      <td>0</td>\n",
       "      <td>0</td>\n",
       "      <td>0</td>\n",
       "      <td>0</td>\n",
       "      <td>0</td>\n",
       "    </tr>\n",
       "  </tbody>\n",
       "</table>\n",
       "</div>"
      ],
      "text/plain": [
       "   Chengdu  Dandong  Guadalajara  Kings Park  MOCA  New Delhi  Puntarenas  \\\n",
       "0        1        0            0           0     0          0           0   \n",
       "1        0        0            0           1     0          0           0   \n",
       "2        0        0            0           0     0          0           0   \n",
       "3        0        0            1           0     0          0           0   \n",
       "4        0        0            0           0     0          0           0   \n",
       "5        0        1            0           0     0          0           0   \n",
       "6        0        0            0           0     0          0           0   \n",
       "7        0        0            0           0     0          0           1   \n",
       "8        0        0            0           0     0          1           0   \n",
       "9        0        0            0           0     1          0           0   \n",
       "\n",
       "   Shantou  Wuhu  Yeosu-City  \n",
       "0        0     0           0  \n",
       "1        0     0           0  \n",
       "2        0     1           0  \n",
       "3        0     0           0  \n",
       "4        1     0           0  \n",
       "5        0     0           0  \n",
       "6        0     0           1  \n",
       "7        0     0           0  \n",
       "8        0     0           0  \n",
       "9        0     0           0  "
      ]
     },
     "execution_count": 18,
     "metadata": {},
     "output_type": "execute_result"
    }
   ],
   "source": [
    "df_a"
   ]
  },
  {
   "cell_type": "code",
   "execution_count": 19,
   "id": "26b061df-618c-470a-b02e-7d7c09661e77",
   "metadata": {
    "slideshow": {
     "slide_type": "subslide"
    },
    "tags": []
   },
   "outputs": [
    {
     "data": {
      "text/html": [
       "<div>\n",
       "<style scoped>\n",
       "    .dataframe tbody tr th:only-of-type {\n",
       "        vertical-align: middle;\n",
       "    }\n",
       "\n",
       "    .dataframe tbody tr th {\n",
       "        vertical-align: top;\n",
       "    }\n",
       "\n",
       "    .dataframe thead th {\n",
       "        text-align: right;\n",
       "    }\n",
       "</style>\n",
       "<table border=\"1\" class=\"dataframe\">\n",
       "  <thead>\n",
       "    <tr style=\"text-align: right;\">\n",
       "      <th></th>\n",
       "      <th>CN</th>\n",
       "      <th>CR</th>\n",
       "      <th>DO</th>\n",
       "      <th>IN</th>\n",
       "      <th>KR</th>\n",
       "      <th>MX</th>\n",
       "      <th>US</th>\n",
       "    </tr>\n",
       "  </thead>\n",
       "  <tbody>\n",
       "    <tr>\n",
       "      <th>0</th>\n",
       "      <td>1</td>\n",
       "      <td>0</td>\n",
       "      <td>0</td>\n",
       "      <td>0</td>\n",
       "      <td>0</td>\n",
       "      <td>0</td>\n",
       "      <td>0</td>\n",
       "    </tr>\n",
       "    <tr>\n",
       "      <th>1</th>\n",
       "      <td>0</td>\n",
       "      <td>0</td>\n",
       "      <td>0</td>\n",
       "      <td>0</td>\n",
       "      <td>0</td>\n",
       "      <td>0</td>\n",
       "      <td>1</td>\n",
       "    </tr>\n",
       "    <tr>\n",
       "      <th>2</th>\n",
       "      <td>1</td>\n",
       "      <td>0</td>\n",
       "      <td>0</td>\n",
       "      <td>0</td>\n",
       "      <td>0</td>\n",
       "      <td>0</td>\n",
       "      <td>0</td>\n",
       "    </tr>\n",
       "    <tr>\n",
       "      <th>3</th>\n",
       "      <td>0</td>\n",
       "      <td>0</td>\n",
       "      <td>0</td>\n",
       "      <td>0</td>\n",
       "      <td>0</td>\n",
       "      <td>1</td>\n",
       "      <td>0</td>\n",
       "    </tr>\n",
       "    <tr>\n",
       "      <th>4</th>\n",
       "      <td>1</td>\n",
       "      <td>0</td>\n",
       "      <td>0</td>\n",
       "      <td>0</td>\n",
       "      <td>0</td>\n",
       "      <td>0</td>\n",
       "      <td>0</td>\n",
       "    </tr>\n",
       "    <tr>\n",
       "      <th>5</th>\n",
       "      <td>1</td>\n",
       "      <td>0</td>\n",
       "      <td>0</td>\n",
       "      <td>0</td>\n",
       "      <td>0</td>\n",
       "      <td>0</td>\n",
       "      <td>0</td>\n",
       "    </tr>\n",
       "    <tr>\n",
       "      <th>6</th>\n",
       "      <td>0</td>\n",
       "      <td>0</td>\n",
       "      <td>0</td>\n",
       "      <td>0</td>\n",
       "      <td>1</td>\n",
       "      <td>0</td>\n",
       "      <td>0</td>\n",
       "    </tr>\n",
       "    <tr>\n",
       "      <th>7</th>\n",
       "      <td>0</td>\n",
       "      <td>1</td>\n",
       "      <td>0</td>\n",
       "      <td>0</td>\n",
       "      <td>0</td>\n",
       "      <td>0</td>\n",
       "      <td>0</td>\n",
       "    </tr>\n",
       "    <tr>\n",
       "      <th>8</th>\n",
       "      <td>0</td>\n",
       "      <td>0</td>\n",
       "      <td>0</td>\n",
       "      <td>1</td>\n",
       "      <td>0</td>\n",
       "      <td>0</td>\n",
       "      <td>0</td>\n",
       "    </tr>\n",
       "    <tr>\n",
       "      <th>9</th>\n",
       "      <td>0</td>\n",
       "      <td>0</td>\n",
       "      <td>1</td>\n",
       "      <td>0</td>\n",
       "      <td>0</td>\n",
       "      <td>0</td>\n",
       "      <td>0</td>\n",
       "    </tr>\n",
       "  </tbody>\n",
       "</table>\n",
       "</div>"
      ],
      "text/plain": [
       "   CN  CR  DO  IN  KR  MX  US\n",
       "0   1   0   0   0   0   0   0\n",
       "1   0   0   0   0   0   0   1\n",
       "2   1   0   0   0   0   0   0\n",
       "3   0   0   0   0   0   1   0\n",
       "4   1   0   0   0   0   0   0\n",
       "5   1   0   0   0   0   0   0\n",
       "6   0   0   0   0   1   0   0\n",
       "7   0   1   0   0   0   0   0\n",
       "8   0   0   0   1   0   0   0\n",
       "9   0   0   1   0   0   0   0"
      ]
     },
     "execution_count": 19,
     "metadata": {},
     "output_type": "execute_result"
    }
   ],
   "source": [
    "df_b"
   ]
  },
  {
   "cell_type": "code",
   "execution_count": 20,
   "id": "313526e4-b0a0-4a47-bc5d-d5722c563fc0",
   "metadata": {
    "slideshow": {
     "slide_type": "subslide"
    },
    "tags": []
   },
   "outputs": [
    {
     "data": {
      "text/html": [
       "<div>\n",
       "<style scoped>\n",
       "    .dataframe tbody tr th:only-of-type {\n",
       "        vertical-align: middle;\n",
       "    }\n",
       "\n",
       "    .dataframe tbody tr th {\n",
       "        vertical-align: top;\n",
       "    }\n",
       "\n",
       "    .dataframe thead th {\n",
       "        text-align: right;\n",
       "    }\n",
       "</style>\n",
       "<table border=\"1\" class=\"dataframe\">\n",
       "  <thead>\n",
       "    <tr style=\"text-align: right;\">\n",
       "      <th></th>\n",
       "      <th>Chengdu</th>\n",
       "      <th>Dandong</th>\n",
       "      <th>Guadalajara</th>\n",
       "      <th>Kings Park</th>\n",
       "      <th>MOCA</th>\n",
       "      <th>New Delhi</th>\n",
       "      <th>Puntarenas</th>\n",
       "      <th>Shantou</th>\n",
       "      <th>Wuhu</th>\n",
       "      <th>Yeosu-City</th>\n",
       "      <th>CN</th>\n",
       "      <th>CR</th>\n",
       "      <th>DO</th>\n",
       "      <th>IN</th>\n",
       "      <th>KR</th>\n",
       "      <th>MX</th>\n",
       "      <th>US</th>\n",
       "    </tr>\n",
       "  </thead>\n",
       "  <tbody>\n",
       "    <tr>\n",
       "      <th>0</th>\n",
       "      <td>1</td>\n",
       "      <td>0</td>\n",
       "      <td>0</td>\n",
       "      <td>0</td>\n",
       "      <td>0</td>\n",
       "      <td>0</td>\n",
       "      <td>0</td>\n",
       "      <td>0</td>\n",
       "      <td>0</td>\n",
       "      <td>0</td>\n",
       "      <td>1</td>\n",
       "      <td>0</td>\n",
       "      <td>0</td>\n",
       "      <td>0</td>\n",
       "      <td>0</td>\n",
       "      <td>0</td>\n",
       "      <td>0</td>\n",
       "    </tr>\n",
       "    <tr>\n",
       "      <th>1</th>\n",
       "      <td>0</td>\n",
       "      <td>0</td>\n",
       "      <td>0</td>\n",
       "      <td>1</td>\n",
       "      <td>0</td>\n",
       "      <td>0</td>\n",
       "      <td>0</td>\n",
       "      <td>0</td>\n",
       "      <td>0</td>\n",
       "      <td>0</td>\n",
       "      <td>0</td>\n",
       "      <td>0</td>\n",
       "      <td>0</td>\n",
       "      <td>0</td>\n",
       "      <td>0</td>\n",
       "      <td>0</td>\n",
       "      <td>1</td>\n",
       "    </tr>\n",
       "    <tr>\n",
       "      <th>2</th>\n",
       "      <td>0</td>\n",
       "      <td>0</td>\n",
       "      <td>0</td>\n",
       "      <td>0</td>\n",
       "      <td>0</td>\n",
       "      <td>0</td>\n",
       "      <td>0</td>\n",
       "      <td>0</td>\n",
       "      <td>1</td>\n",
       "      <td>0</td>\n",
       "      <td>1</td>\n",
       "      <td>0</td>\n",
       "      <td>0</td>\n",
       "      <td>0</td>\n",
       "      <td>0</td>\n",
       "      <td>0</td>\n",
       "      <td>0</td>\n",
       "    </tr>\n",
       "    <tr>\n",
       "      <th>3</th>\n",
       "      <td>0</td>\n",
       "      <td>0</td>\n",
       "      <td>1</td>\n",
       "      <td>0</td>\n",
       "      <td>0</td>\n",
       "      <td>0</td>\n",
       "      <td>0</td>\n",
       "      <td>0</td>\n",
       "      <td>0</td>\n",
       "      <td>0</td>\n",
       "      <td>0</td>\n",
       "      <td>0</td>\n",
       "      <td>0</td>\n",
       "      <td>0</td>\n",
       "      <td>0</td>\n",
       "      <td>1</td>\n",
       "      <td>0</td>\n",
       "    </tr>\n",
       "    <tr>\n",
       "      <th>4</th>\n",
       "      <td>0</td>\n",
       "      <td>0</td>\n",
       "      <td>0</td>\n",
       "      <td>0</td>\n",
       "      <td>0</td>\n",
       "      <td>0</td>\n",
       "      <td>0</td>\n",
       "      <td>1</td>\n",
       "      <td>0</td>\n",
       "      <td>0</td>\n",
       "      <td>1</td>\n",
       "      <td>0</td>\n",
       "      <td>0</td>\n",
       "      <td>0</td>\n",
       "      <td>0</td>\n",
       "      <td>0</td>\n",
       "      <td>0</td>\n",
       "    </tr>\n",
       "    <tr>\n",
       "      <th>5</th>\n",
       "      <td>0</td>\n",
       "      <td>1</td>\n",
       "      <td>0</td>\n",
       "      <td>0</td>\n",
       "      <td>0</td>\n",
       "      <td>0</td>\n",
       "      <td>0</td>\n",
       "      <td>0</td>\n",
       "      <td>0</td>\n",
       "      <td>0</td>\n",
       "      <td>1</td>\n",
       "      <td>0</td>\n",
       "      <td>0</td>\n",
       "      <td>0</td>\n",
       "      <td>0</td>\n",
       "      <td>0</td>\n",
       "      <td>0</td>\n",
       "    </tr>\n",
       "    <tr>\n",
       "      <th>6</th>\n",
       "      <td>0</td>\n",
       "      <td>0</td>\n",
       "      <td>0</td>\n",
       "      <td>0</td>\n",
       "      <td>0</td>\n",
       "      <td>0</td>\n",
       "      <td>0</td>\n",
       "      <td>0</td>\n",
       "      <td>0</td>\n",
       "      <td>1</td>\n",
       "      <td>0</td>\n",
       "      <td>0</td>\n",
       "      <td>0</td>\n",
       "      <td>0</td>\n",
       "      <td>1</td>\n",
       "      <td>0</td>\n",
       "      <td>0</td>\n",
       "    </tr>\n",
       "    <tr>\n",
       "      <th>7</th>\n",
       "      <td>0</td>\n",
       "      <td>0</td>\n",
       "      <td>0</td>\n",
       "      <td>0</td>\n",
       "      <td>0</td>\n",
       "      <td>0</td>\n",
       "      <td>1</td>\n",
       "      <td>0</td>\n",
       "      <td>0</td>\n",
       "      <td>0</td>\n",
       "      <td>0</td>\n",
       "      <td>1</td>\n",
       "      <td>0</td>\n",
       "      <td>0</td>\n",
       "      <td>0</td>\n",
       "      <td>0</td>\n",
       "      <td>0</td>\n",
       "    </tr>\n",
       "    <tr>\n",
       "      <th>8</th>\n",
       "      <td>0</td>\n",
       "      <td>0</td>\n",
       "      <td>0</td>\n",
       "      <td>0</td>\n",
       "      <td>0</td>\n",
       "      <td>1</td>\n",
       "      <td>0</td>\n",
       "      <td>0</td>\n",
       "      <td>0</td>\n",
       "      <td>0</td>\n",
       "      <td>0</td>\n",
       "      <td>0</td>\n",
       "      <td>0</td>\n",
       "      <td>1</td>\n",
       "      <td>0</td>\n",
       "      <td>0</td>\n",
       "      <td>0</td>\n",
       "    </tr>\n",
       "    <tr>\n",
       "      <th>9</th>\n",
       "      <td>0</td>\n",
       "      <td>0</td>\n",
       "      <td>0</td>\n",
       "      <td>0</td>\n",
       "      <td>1</td>\n",
       "      <td>0</td>\n",
       "      <td>0</td>\n",
       "      <td>0</td>\n",
       "      <td>0</td>\n",
       "      <td>0</td>\n",
       "      <td>0</td>\n",
       "      <td>0</td>\n",
       "      <td>1</td>\n",
       "      <td>0</td>\n",
       "      <td>0</td>\n",
       "      <td>0</td>\n",
       "      <td>0</td>\n",
       "    </tr>\n",
       "  </tbody>\n",
       "</table>\n",
       "</div>"
      ],
      "text/plain": [
       "   Chengdu  Dandong  Guadalajara  Kings Park  MOCA  New Delhi  Puntarenas  \\\n",
       "0        1        0            0           0     0          0           0   \n",
       "1        0        0            0           1     0          0           0   \n",
       "2        0        0            0           0     0          0           0   \n",
       "3        0        0            1           0     0          0           0   \n",
       "4        0        0            0           0     0          0           0   \n",
       "5        0        1            0           0     0          0           0   \n",
       "6        0        0            0           0     0          0           0   \n",
       "7        0        0            0           0     0          0           1   \n",
       "8        0        0            0           0     0          1           0   \n",
       "9        0        0            0           0     1          0           0   \n",
       "\n",
       "   Shantou  Wuhu  Yeosu-City  CN  CR  DO  IN  KR  MX  US  \n",
       "0        0     0           0   1   0   0   0   0   0   0  \n",
       "1        0     0           0   0   0   0   0   0   0   1  \n",
       "2        0     1           0   1   0   0   0   0   0   0  \n",
       "3        0     0           0   0   0   0   0   0   1   0  \n",
       "4        1     0           0   1   0   0   0   0   0   0  \n",
       "5        0     0           0   1   0   0   0   0   0   0  \n",
       "6        0     0           1   0   0   0   0   1   0   0  \n",
       "7        0     0           0   0   1   0   0   0   0   0  \n",
       "8        0     0           0   0   0   0   1   0   0   0  \n",
       "9        0     0           0   0   0   1   0   0   0   0  "
      ]
     },
     "execution_count": 20,
     "metadata": {},
     "output_type": "execute_result"
    }
   ],
   "source": [
    "pd.concat([df_a, df_b], axis=1)"
   ]
  },
  {
   "cell_type": "markdown",
   "id": "ebf89ff3-e5b8-4d83-ad22-e442ebdabad9",
   "metadata": {
    "slideshow": {
     "slide_type": "slide"
    }
   },
   "source": [
    "## Some HW2 Caveats ...\n",
    "\n",
    "* it is a good idea to remove Province/States with low counts\n",
    "* I've found more than 25 is good\n",
    "* same with Countries\n",
    "* more than 10 is good\n",
    "* and remember ..."
   ]
  },
  {
   "cell_type": "code",
   "execution_count": 21,
   "id": "7ef055c6-f8b1-47a5-b1d1-ceff0c74c179",
   "metadata": {
    "slideshow": {
     "slide_type": "subslide"
    },
    "tags": []
   },
   "outputs": [
    {
     "data": {
      "text/plain": [
       "ISO_CNTRY_CODE\n",
       "CN    4\n",
       "US    1\n",
       "MX    1\n",
       "KR    1\n",
       "CR    1\n",
       "IN    1\n",
       "DO    1\n",
       "Name: count, dtype: int64"
      ]
     },
     "execution_count": 21,
     "metadata": {},
     "output_type": "execute_result"
    }
   ],
   "source": [
    "df_example_2.ISO_CNTRY_CODE.value_counts()"
   ]
  },
  {
   "cell_type": "code",
   "execution_count": 22,
   "id": "42f99483-bdf5-4c21-b130-14826b278eda",
   "metadata": {
    "slideshow": {
     "slide_type": "subslide"
    },
    "tags": []
   },
   "outputs": [
    {
     "data": {
      "text/plain": [
       "ISO_CNTRY_CODE\n",
       "CN    4.0\n",
       "US    NaN\n",
       "MX    NaN\n",
       "KR    NaN\n",
       "CR    NaN\n",
       "IN    NaN\n",
       "DO    NaN\n",
       "Name: count, dtype: float64"
      ]
     },
     "execution_count": 22,
     "metadata": {},
     "output_type": "execute_result"
    }
   ],
   "source": [
    "df_example_2.ISO_CNTRY_CODE.value_counts().where(lambda d: d>3)"
   ]
  },
  {
   "cell_type": "code",
   "execution_count": 23,
   "id": "b9adc521-2073-458a-9e5b-a9ee7a46a0ea",
   "metadata": {
    "slideshow": {
     "slide_type": "subslide"
    },
    "tags": []
   },
   "outputs": [
    {
     "data": {
      "text/plain": [
       "ISO_CNTRY_CODE\n",
       "CN    4.0\n",
       "Name: count, dtype: float64"
      ]
     },
     "execution_count": 23,
     "metadata": {},
     "output_type": "execute_result"
    }
   ],
   "source": [
    "df_example_2.ISO_CNTRY_CODE.value_counts().where(lambda d: d>3).dropna()"
   ]
  },
  {
   "cell_type": "markdown",
   "id": "f3293d44-09ee-491c-aa38-d3e38b89788c",
   "metadata": {},
   "source": []
  }
 ],
 "metadata": {
  "celltoolbar": "Slideshow",
  "kernelspec": {
   "display_name": "Python [conda env:sau-fall-2023]",
   "language": "python",
   "name": "conda-env-sau-fall-2023-py"
  },
  "language_info": {
   "codemirror_mode": {
    "name": "ipython",
    "version": 3
   },
   "file_extension": ".py",
   "mimetype": "text/x-python",
   "name": "python",
   "nbconvert_exporter": "python",
   "pygments_lexer": "ipython3",
   "version": "3.11.6"
  }
 },
 "nbformat": 4,
 "nbformat_minor": 5
}
