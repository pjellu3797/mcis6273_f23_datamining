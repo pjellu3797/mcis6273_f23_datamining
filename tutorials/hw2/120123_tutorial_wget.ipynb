{
 "cells": [
  {
   "cell_type": "markdown",
   "id": "56386974-6f89-4435-ba43-fe3a708c233d",
   "metadata": {},
   "source": [
    "This version of wget will create a new file each time (.1, .2, .n etc)"
   ]
  },
  {
   "cell_type": "code",
   "execution_count": null,
   "id": "9bf7952d-a517-4566-8588-7615950a6041",
   "metadata": {
    "tags": []
   },
   "outputs": [],
   "source": [
    "!wget https://www.accessdata.fda.gov/scripts/ImportRefusals/downloads/Import_Refusal_2014-present.zip"
   ]
  },
  {
   "cell_type": "markdown",
   "id": "5ff9726d-6413-409b-83d3-057370edab78",
   "metadata": {},
   "source": [
    "NOTE: WITHOUT -o flag this will ask for prompt input which will lock up the notebook."
   ]
  },
  {
   "cell_type": "code",
   "execution_count": null,
   "id": "d261190d-7339-4645-901f-02518c156dea",
   "metadata": {
    "tags": []
   },
   "outputs": [],
   "source": [
    "!unzip Import_Refusal_2014-present.zip"
   ]
  },
  {
   "cell_type": "markdown",
   "id": "9f745802-2de1-48ae-8752-7abc7c932665",
   "metadata": {},
   "source": [
    "This version with the -nc flag with ignore the file if it already exists."
   ]
  },
  {
   "cell_type": "code",
   "execution_count": null,
   "id": "527acbb6-69ec-4eb6-b7c5-03636e5407ea",
   "metadata": {},
   "outputs": [],
   "source": [
    "!wget https://www.accessdata.fda.gov/scripts/ImportRefusals/downloads/Import_Refusal_2014-present.zip"
   ]
  },
  {
   "cell_type": "markdown",
   "id": "184b0c49-869d-4370-bdea-37222af5a795",
   "metadata": {},
   "source": [
    "This version with -o will not ask for user input if the files already exist."
   ]
  },
  {
   "cell_type": "code",
   "execution_count": null,
   "id": "c3a9bf74-7c05-4fc8-ace7-b48143eff842",
   "metadata": {},
   "outputs": [],
   "source": [
    "!unzip -o Import_Refusal_2014-present.zip"
   ]
  }
 ],
 "metadata": {
  "kernelspec": {
   "display_name": "Python [conda env:sau-fall-2023]",
   "language": "python",
   "name": "conda-env-sau-fall-2023-py"
  },
  "language_info": {
   "codemirror_mode": {
    "name": "ipython",
    "version": 3
   },
   "file_extension": ".py",
   "mimetype": "text/x-python",
   "name": "python",
   "nbconvert_exporter": "python",
   "pygments_lexer": "ipython3",
   "version": "3.11.6"
  }
 },
 "nbformat": 4,
 "nbformat_minor": 5
}
