{
 "cells": [
  {
   "cell_type": "markdown",
   "id": "c2bde479-bbfe-4510-9c29-8e06fc4ea23b",
   "metadata": {},
   "source": [
    "# HOW DO I GET THE FILES FROM GUTENBERG?"
   ]
  },
  {
   "cell_type": "markdown",
   "id": "a13245f1-1598-41bf-b879-964634dacb2d",
   "metadata": {},
   "source": [
    "## OPTION 1: DOWNLOAD DIRECTLY AND UPLOAD TO THE HUB"
   ]
  },
  {
   "cell_type": "markdown",
   "id": "4b23589a-c0a3-46ab-b404-53656ad47267",
   "metadata": {},
   "source": [
    "## OPTION 2: USE JUPYTER MAGIC\n",
    "\n",
    "\"magic\" commands in Jupyter allow you to run what would ordinarily be shell or terminal commands directly in the notebook. \n",
    "\n",
    "* please see this for more: [magic shell command](https://ipython.readthedocs.io/en/stable/interactive/magics.html#magic-sc)\n",
    "\n",
    "The syntax is easy and natural:\n",
    "\n",
    "```bash\n",
    "!shell_command\n",
    "```\n",
    "\n",
    "**So what shell command should we use?**\n",
    "\n",
    "`curl` or `wget` will get the job done!\n",
    "\n",
    "* see [`curl`]()\n",
    "* and [`wget`]()\n",
    "\n",
    "\n"
   ]
  },
  {
   "cell_type": "markdown",
   "id": "9f5730eb-cf13-462d-a0b4-4662688f5129",
   "metadata": {},
   "source": [
    "### Example\n",
    "\n",
    "Say we have a file on Github that we would like to bring down to our Jupyter.\n",
    "\n",
    "We can find that file, click on `raw`, copy the URL and then use `curl` or `wget` directly in the notebook like this:"
   ]
  },
  {
   "cell_type": "code",
   "execution_count": 1,
   "id": "1fc1c22a-7b75-482e-83ed-4ac3d0c31b3a",
   "metadata": {},
   "outputs": [
    {
     "name": "stdout",
     "output_type": "stream",
     "text": [
      "--2023-09-23 20:51:32--  https://raw.githubusercontent.com/zebera99/popular_baby_names/main/popular_baby_names.csv\n",
      "Resolving raw.githubusercontent.com (raw.githubusercontent.com)... 185.199.108.133, 185.199.109.133, 185.199.110.133, ...\n",
      "Connecting to raw.githubusercontent.com (raw.githubusercontent.com)|185.199.108.133|:443... connected.\n",
      "HTTP request sent, awaiting response... 200 OK\n",
      "Length: 461312 (450K) [text/plain]\n",
      "Saving to: ‘popular_baby_names.csv’\n",
      "\n",
      "popular_baby_names. 100%[===================>] 450.50K  --.-KB/s    in 0.07s   \n",
      "\n",
      "2023-09-23 20:51:33 (6.34 MB/s) - ‘popular_baby_names.csv’ saved [461312/461312]\n",
      "\n"
     ]
    }
   ],
   "source": [
    "# we have a file from the repo:  \n",
    "!wget https://raw.githubusercontent.com/zebera99/popular_baby_names/main/popular_baby_names.csvr"
   ]
  },
  {
   "cell_type": "markdown",
   "id": "a69433c3-8603-47c2-9e32-578584fd227d",
   "metadata": {},
   "source": [
    "You now only need to get the `.txt` from Gutenberg and you're done!"
   ]
  },
  {
   "cell_type": "markdown",
   "id": "0b1c2c9c-a61f-48ec-90c4-7f7473ad12c1",
   "metadata": {},
   "source": [
    "## OPTION 3: USE THE `requests` LIBRARY IN PYTHON\n",
    "\n",
    "This is the most \"natural\" way in the context of the \n",
    "flow of a program, but is by no means the most necessary one.\n",
    "\n",
    "It is elegant, Pythonic and works well!\n",
    "\n",
    "* please see [python Requests library](https://docs.python-requests.org/en/latest/index.html) it is amazing and very useful\n"
   ]
  },
  {
   "cell_type": "code",
   "execution_count": 4,
   "id": "ff5d2a97-cc1a-4eee-b13f-07c9aa8072a5",
   "metadata": {},
   "outputs": [],
   "source": [
    "import requests\n",
    "\n",
    "url = \"https://raw.githubusercontent.com/zebera99/popular_baby_names/main/popular_baby_names.csv\"\n",
    "\n",
    "r = requests.get(url)\n",
    "if r.status_code == 200:\n",
    "    with open(\"output_file.csv\", \"wb\") as fo:\n",
    "        fo.write(r.content)"
   ]
  },
  {
   "cell_type": "code",
   "execution_count": null,
   "id": "fc840879-b91f-47b0-a132-dd68dce39564",
   "metadata": {},
   "outputs": [],
   "source": []
  }
 ],
 "metadata": {
  "kernelspec": {
   "display_name": "Python [conda env:sau-fall-2023]",
   "language": "python",
   "name": "conda-env-sau-fall-2023-py"
  },
  "language_info": {
   "codemirror_mode": {
    "name": "ipython",
    "version": 3
   },
   "file_extension": ".py",
   "mimetype": "text/x-python",
   "name": "python",
   "nbconvert_exporter": "python",
   "pygments_lexer": "ipython3",
   "version": "3.11.4"
  }
 },
 "nbformat": 4,
 "nbformat_minor": 5
}
