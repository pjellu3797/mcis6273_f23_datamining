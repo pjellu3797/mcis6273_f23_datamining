{
 "cells": [
  {
   "cell_type": "markdown",
   "id": "2f0ecb9f-e4e6-47f1-8886-fc60a85e1f8e",
   "metadata": {},
   "source": [
    "# A Gentle Introduction to Parsing in Python\n",
    "\n",
    "Python is a language that is very good a parsing text.\n",
    "\n",
    "## Splitting on spaces\n",
    "The first tool you should be familiar with is [`str.split()`](https://docs.python.org/3/library/stdtypes.html#str.split)."
   ]
  },
  {
   "cell_type": "code",
   "execution_count": 1,
   "id": "5c00f185-f067-4251-8d30-c7dfe504bc57",
   "metadata": {},
   "outputs": [
    {
     "data": {
      "text/plain": [
       "['this', 'is', 'a', 'string']"
      ]
     },
     "execution_count": 1,
     "metadata": {},
     "output_type": "execute_result"
    }
   ],
   "source": [
    "# given a string split() returns the list of the result of the string split along spaces and newlines\n",
    "a_string = \" this is a string    \"\n",
    "a_string.split()"
   ]
  },
  {
   "cell_type": "code",
   "execution_count": 2,
   "id": "c2b37723-f027-460c-bc1e-c0a6c33eb867",
   "metadata": {},
   "outputs": [
    {
     "data": {
      "text/plain": [
       "['this', 'is', 'a', 'string', 'hello', 'and', 'a', 'new', 'line']"
      ]
     },
     "execution_count": 2,
     "metadata": {},
     "output_type": "execute_result"
    }
   ],
   "source": [
    "a_string = \" this is a string  \\nhello and a new      line\\n  \"\n",
    "a_string.split()"
   ]
  },
  {
   "cell_type": "markdown",
   "id": "ed3f6617-3196-4da5-a28f-334d238ad89f",
   "metadata": {},
   "source": [
    "You can also split along other stuff (like commas, or nearly any other character):"
   ]
  },
  {
   "cell_type": "code",
   "execution_count": 3,
   "id": "fe323a45-00f6-4c48-828f-6850af20be36",
   "metadata": {},
   "outputs": [
    {
     "data": {
      "text/plain": [
       "['if i need to', ' I will go to the store', ' but not before I eat']"
      ]
     },
     "execution_count": 3,
     "metadata": {},
     "output_type": "execute_result"
    }
   ],
   "source": [
    "a_string = \"if i need to, I will go to the store, but not before I eat\"\n",
    "a_string.split(\",\")"
   ]
  },
  {
   "cell_type": "code",
   "execution_count": 4,
   "id": "25a080bd-2560-44c0-b422-72ca4812e737",
   "metadata": {},
   "outputs": [
    {
     "data": {
      "text/plain": [
       "['aa', 'ttcac', 'taaa', 'cctctaa', '']"
      ]
     },
     "execution_count": 4,
     "metadata": {},
     "output_type": "execute_result"
    }
   ],
   "source": [
    "a_string = \"aagttcacgtaaagcctctaag\"\n",
    "a_string.split(\"g\")"
   ]
  },
  {
   "cell_type": "markdown",
   "id": "33838441-7599-48b5-be75-286fdb19afb1",
   "metadata": {},
   "source": [
    "## Determining Word Case\n",
    "\n",
    "Determining word case is rather simple in Python.\n",
    "\n",
    "There are two ways we will look into, \n",
    "\n",
    "* one is using the build in [`str.isupper()`](https://docs.python.org/3/library/stdtypes.html?highlight=isupper#str.isupper), the other a regular expression.\n",
    "* the other is by using regular expressions which are handled in Python with the [`re` library](https://docs.python.org/3/library/re.html).\n",
    "\n",
    "Let's jump into it.\n",
    "\n",
    "Say we want to take a string and determine if it begins with a capital character.\n",
    "\n",
    "### Using `str.isupper()`"
   ]
  },
  {
   "cell_type": "code",
   "execution_count": 5,
   "id": "23e9e545-362a-46f4-8a3e-ef657e1e3135",
   "metadata": {},
   "outputs": [],
   "source": [
    "def is_capitalized(s):\n",
    "    return s[0].isupper()"
   ]
  },
  {
   "cell_type": "code",
   "execution_count": 6,
   "id": "73708543-3a88-4117-9e6e-d3bb9808863f",
   "metadata": {},
   "outputs": [
    {
     "data": {
      "text/plain": [
       "True"
      ]
     },
     "execution_count": 6,
     "metadata": {},
     "output_type": "execute_result"
    }
   ],
   "source": [
    "is_capitalized(\"A\")"
   ]
  },
  {
   "cell_type": "code",
   "execution_count": 7,
   "id": "f4597c46-3bbc-4033-8dd5-1651e3f198ac",
   "metadata": {},
   "outputs": [
    {
     "data": {
      "text/plain": [
       "False"
      ]
     },
     "execution_count": 7,
     "metadata": {},
     "output_type": "execute_result"
    }
   ],
   "source": [
    "is_capitalized(\"funny\")"
   ]
  },
  {
   "cell_type": "code",
   "execution_count": 8,
   "id": "ade4ce9e-5bda-4f64-9c1c-736de027e0b4",
   "metadata": {},
   "outputs": [
    {
     "data": {
      "text/plain": [
       "True"
      ]
     },
     "execution_count": 8,
     "metadata": {},
     "output_type": "execute_result"
    }
   ],
   "source": [
    "is_capitalized(\"U.S.\")"
   ]
  },
  {
   "cell_type": "markdown",
   "id": "59d5f6b4-a94f-4095-afd6-345c8128078f",
   "metadata": {},
   "source": [
    "### Using Regular Expressions\n",
    "We can see that `str.isupper()` is simple, elegant and effective, but not very generalizable.\n",
    "\n",
    "This is where we will use `re` and try something a little different.\n",
    "\n",
    "Here is the shape of the solution:\n",
    "\n",
    "* in the Python `re` library a word character  is designateed with `\\w` -- this is called a \"character class\" \n",
    "* there are also expressions that allow for groups of characters to be selected in a regular expression \n",
    "    * if we use the expression `[A-Z]` this matches any uppercase letter\n",
    "    * if we use the expression `[a-z]` this matches any lowercase letter\n",
    "* combining these, we can create a function that does the same as `str.upper()` in the language of regular expressions\n",
    "\n",
    "For example:"
   ]
  },
  {
   "cell_type": "code",
   "execution_count": 9,
   "id": "7dbcd14b-354f-4063-acfb-df85ba891ac0",
   "metadata": {},
   "outputs": [],
   "source": [
    "import re\n",
    "\n",
    "pat_lower = re.compile(r'[a-z]\\w+') # words that start with a lowercase\n",
    "pat_upper = re.compile(r'[A-Z]\\w+') # words that start with an uppercase"
   ]
  },
  {
   "cell_type": "code",
   "execution_count": 10,
   "id": "74d7ca4f-aaae-4699-8316-bef2e9b57ce3",
   "metadata": {},
   "outputs": [],
   "source": [
    "def process_string(s):\n",
    "    m = pat_lower.match(s)\n",
    "    if m:\n",
    "        print(f\"'{m[0]}' is lowercase\")\n",
    "    else:\n",
    "        m = pat_upper.match(s)\n",
    "        print(f\"'{m[0]}' is uppercase\")"
   ]
  },
  {
   "cell_type": "code",
   "execution_count": 11,
   "id": "7cf92e38-1a62-4ada-af3c-82aa65eb781e",
   "metadata": {},
   "outputs": [
    {
     "name": "stdout",
     "output_type": "stream",
     "text": [
      "'hello' is lowercase\n"
     ]
    }
   ],
   "source": [
    "process_string(\"hello.\")"
   ]
  },
  {
   "cell_type": "code",
   "execution_count": 12,
   "id": "5ea6d789-57ca-4feb-9982-d8868a9d2fef",
   "metadata": {},
   "outputs": [
    {
     "name": "stdout",
     "output_type": "stream",
     "text": [
      "'Hello' is uppercase\n"
     ]
    }
   ],
   "source": [
    "process_string(\"Hello.\")"
   ]
  },
  {
   "cell_type": "markdown",
   "id": "f636548d-394b-4b40-9721-81b355e9c1bb",
   "metadata": {},
   "source": [
    "This solution could be put into play into your homework solution.\n",
    "\n",
    "Spend some time studying the `re` library.  It is a crucial tool for many programming tasks with strings."
   ]
  }
 ],
 "metadata": {
  "kernelspec": {
   "display_name": "Python [conda env:sau-fall-2023]",
   "language": "python",
   "name": "conda-env-sau-fall-2023-py"
  },
  "language_info": {
   "codemirror_mode": {
    "name": "ipython",
    "version": 3
   },
   "file_extension": ".py",
   "mimetype": "text/x-python",
   "name": "python",
   "nbconvert_exporter": "python",
   "pygments_lexer": "ipython3",
   "version": "3.11.4"
  }
 },
 "nbformat": 4,
 "nbformat_minor": 5
}
